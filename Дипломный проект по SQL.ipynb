{
 "cells": [
  {
   "cell_type": "markdown",
   "metadata": {},
   "source": [
    "# Анализ крупного сервиса для чтения книг по подписке"
   ]
  },
  {
   "cell_type": "markdown",
   "metadata": {},
   "source": [
    "### Введение"
   ]
  },
  {
   "cell_type": "markdown",
   "metadata": {},
   "source": [
    "Нашему вниманию предоставлены данные крупного сервиса для чтения книг по подписке. Необходимо проанализировать базу данных.\n",
    "В ней содержится информация о книгах, издательствах, авторах, а также пользовательские обзоры книг. Эти данные помогут сформулировать ценностное предложение для нового продукта.\n",
    "\n",
    "\n",
    "   **Описание данных**\n",
    "\n",
    "Таблица **books**\n",
    "\n",
    "Содержит данные о книгах:\n",
    "\n",
    "- book_id — идентификатор книги;\n",
    "\n",
    "- author_id — идентификатор автора;\n",
    "\n",
    "- title — название книги;\n",
    "\n",
    "- num_pages — количество страниц;\n",
    "\n",
    "- publication_date — дата публикации книги;\n",
    "\n",
    "- publisher_id — идентификатор издателя.\n",
    "\n",
    "Таблица **authors**\n",
    "\n",
    "Содержит данные об авторах:\n",
    "\n",
    "- author_id — идентификатор автора;\n",
    "- author — имя автора.\n",
    "\n",
    "Таблица **publishers**\n",
    "Содержит данные об издательствах:\n",
    "\n",
    "- publisher_id — идентификатор издательства;\n",
    "- publisher — название издательства;\n",
    "\n",
    "Таблица **ratings**\n",
    "\n",
    "Содержит данные о пользовательских оценках книг:\n",
    "\n",
    "- rating_id — идентификатор оценки;\n",
    "- book_id — идентификатор книги;\n",
    "- username — имя пользователя, оставившего оценку;\n",
    "- rating — оценка книги.\n",
    "\n",
    "Таблица **reviews**\n",
    "\n",
    "Содержит данные о пользовательских обзорах:\n",
    "\n",
    "- review_id — идентификатор обзора;\n",
    "- book_id — идентификатор книги;\n",
    "- username — имя автора обзора;\n",
    "- text — текст обзора.\n",
    "\n",
    "\n",
    "   **План**\n",
    "\n",
    "1. Изучить общую информацию данных.\n",
    "\n",
    "\n",
    "2. Подготовить по одному SQL-запросу для решения каждого задания.\n",
    "\n",
    "\n",
    "3. Сформулировать выводы."
   ]
  },
  {
   "cell_type": "markdown",
   "metadata": {},
   "source": [
    "### Исследование данных"
   ]
  },
  {
   "cell_type": "code",
   "execution_count": 1,
   "metadata": {},
   "outputs": [],
   "source": [
    "# импортируем библиотеки\n",
    "import pandas as pd\n",
    "from sqlalchemy import text, create_engine\n",
    "# устанавливаем параметры\n",
    "db_config = {'user': 'praktikum_student', # имя пользователя\n",
    "'pwd': 'Sdf4$2;d-d30pp', # пароль\n",
    "'host': 'rc1b-wcoijxj3yxfsf3fs.mdb.yandexcloud.net',\n",
    "'port': 6432, # порт подключения\n",
    "'db': 'data-analyst-final-project-db'} # название базы данных\n",
    "connection_string = 'postgresql://{user}:{pwd}@{host}:{port}/{db}'.format(**db_config)\n",
    "# сохраняем коннектор\n",
    "engine = create_engine(connection_string, connect_args={'sslmode':'require'})"
   ]
  },
  {
   "cell_type": "markdown",
   "metadata": {},
   "source": [
    "*Выведем первые 5 строк каждой таблицы, а затем основную информацию по ней.*"
   ]
  },
  {
   "cell_type": "code",
   "execution_count": 2,
   "metadata": {},
   "outputs": [
    {
     "name": "stdout",
     "output_type": "stream",
     "text": [
      "\t\t\t\t Данные о книгах\n"
     ]
    },
    {
     "data": {
      "text/html": [
       "<div>\n",
       "<style scoped>\n",
       "    .dataframe tbody tr th:only-of-type {\n",
       "        vertical-align: middle;\n",
       "    }\n",
       "\n",
       "    .dataframe tbody tr th {\n",
       "        vertical-align: top;\n",
       "    }\n",
       "\n",
       "    .dataframe thead th {\n",
       "        text-align: right;\n",
       "    }\n",
       "</style>\n",
       "<table border=\"1\" class=\"dataframe\">\n",
       "  <thead>\n",
       "    <tr style=\"text-align: right;\">\n",
       "      <th></th>\n",
       "      <th>book_id</th>\n",
       "      <th>author_id</th>\n",
       "      <th>title</th>\n",
       "      <th>num_pages</th>\n",
       "      <th>publication_date</th>\n",
       "      <th>publisher_id</th>\n",
       "    </tr>\n",
       "  </thead>\n",
       "  <tbody>\n",
       "    <tr>\n",
       "      <th>0</th>\n",
       "      <td>1</td>\n",
       "      <td>546</td>\n",
       "      <td>'Salem's Lot</td>\n",
       "      <td>594</td>\n",
       "      <td>2005-11-01</td>\n",
       "      <td>93</td>\n",
       "    </tr>\n",
       "    <tr>\n",
       "      <th>1</th>\n",
       "      <td>2</td>\n",
       "      <td>465</td>\n",
       "      <td>1 000 Places to See Before You Die</td>\n",
       "      <td>992</td>\n",
       "      <td>2003-05-22</td>\n",
       "      <td>336</td>\n",
       "    </tr>\n",
       "    <tr>\n",
       "      <th>2</th>\n",
       "      <td>3</td>\n",
       "      <td>407</td>\n",
       "      <td>13 Little Blue Envelopes (Little Blue Envelope...</td>\n",
       "      <td>322</td>\n",
       "      <td>2010-12-21</td>\n",
       "      <td>135</td>\n",
       "    </tr>\n",
       "    <tr>\n",
       "      <th>3</th>\n",
       "      <td>4</td>\n",
       "      <td>82</td>\n",
       "      <td>1491: New Revelations of the Americas Before C...</td>\n",
       "      <td>541</td>\n",
       "      <td>2006-10-10</td>\n",
       "      <td>309</td>\n",
       "    </tr>\n",
       "    <tr>\n",
       "      <th>4</th>\n",
       "      <td>5</td>\n",
       "      <td>125</td>\n",
       "      <td>1776</td>\n",
       "      <td>386</td>\n",
       "      <td>2006-07-04</td>\n",
       "      <td>268</td>\n",
       "    </tr>\n",
       "  </tbody>\n",
       "</table>\n",
       "</div>"
      ],
      "text/plain": [
       "   book_id  author_id                                              title  \\\n",
       "0        1        546                                       'Salem's Lot   \n",
       "1        2        465                 1 000 Places to See Before You Die   \n",
       "2        3        407  13 Little Blue Envelopes (Little Blue Envelope...   \n",
       "3        4         82  1491: New Revelations of the Americas Before C...   \n",
       "4        5        125                                               1776   \n",
       "\n",
       "   num_pages publication_date  publisher_id  \n",
       "0        594       2005-11-01            93  \n",
       "1        992       2003-05-22           336  \n",
       "2        322       2010-12-21           135  \n",
       "3        541       2006-10-10           309  \n",
       "4        386       2006-07-04           268  "
      ]
     },
     "metadata": {},
     "output_type": "display_data"
    }
   ],
   "source": [
    "# чтобы выполнить SQL-запрос, используем Pandas\n",
    "query = '''SELECT * FROM books LIMIT 5'''\n",
    "con=engine.connect()\n",
    "books = pd.io.sql.read_sql(sql=text(query), con = con)\n",
    "print('\\t\\t\\t\\t Данные о книгах')\n",
    "display(books)"
   ]
  },
  {
   "cell_type": "code",
   "execution_count": 3,
   "metadata": {},
   "outputs": [
    {
     "name": "stdout",
     "output_type": "stream",
     "text": [
      "\n",
      "\tИнформация о books: \n",
      "\n",
      "<class 'pandas.core.frame.DataFrame'>\n",
      "RangeIndex: 1000 entries, 0 to 999\n",
      "Data columns (total 6 columns):\n",
      " #   Column            Non-Null Count  Dtype \n",
      "---  ------            --------------  ----- \n",
      " 0   book_id           1000 non-null   int64 \n",
      " 1   author_id         1000 non-null   int64 \n",
      " 2   title             1000 non-null   object\n",
      " 3   num_pages         1000 non-null   int64 \n",
      " 4   publication_date  1000 non-null   object\n",
      " 5   publisher_id      1000 non-null   int64 \n",
      "dtypes: int64(4), object(2)\n",
      "memory usage: 47.0+ KB\n",
      "\n",
      "Количество строк и столбцов: (1000, 6)\n",
      "\n",
      "Информация по пропускам: \n",
      "\n",
      "book_id             0\n",
      "author_id           0\n",
      "title               0\n",
      "num_pages           0\n",
      "publication_date    0\n",
      "publisher_id        0\n",
      "dtype: int64\n",
      "Количество дубликатов: 0\n"
     ]
    }
   ],
   "source": [
    "#выведем общую информацию по таблице:\n",
    "query = '''SELECT * FROM books'''\n",
    "con=engine.connect()\n",
    "books = pd.io.sql.read_sql(sql=text(query), con = con)\n",
    "\n",
    "print ('\\n\\tИнформация о books: \\n') \n",
    "books.info()\n",
    "\n",
    "#выведем размер исходной таблицы:\n",
    "print ('\\nКоличество строк и столбцов:', books.shape)\n",
    "\n",
    "#проверим на пропуски\n",
    "print ('\\nИнформация по пропускам: \\n') \n",
    "print(books.isnull().sum())\n",
    "\n",
    "#проверим на дубликаты\n",
    "print ('Количество дубликатов:', books.duplicated().sum())"
   ]
  },
  {
   "cell_type": "markdown",
   "metadata": {},
   "source": [
    "**Таблица books содержит данные о названии книги, количестве страниц, дате публикации, id книги, автора и издательства. В таблице 1000 строк и 6 столбцов. Дубликаты и пропущенные значения не обнаружены.**"
   ]
  },
  {
   "cell_type": "code",
   "execution_count": 4,
   "metadata": {},
   "outputs": [
    {
     "name": "stdout",
     "output_type": "stream",
     "text": [
      "\t\t\t\t Данные об авторах\n"
     ]
    },
    {
     "data": {
      "text/html": [
       "<div>\n",
       "<style scoped>\n",
       "    .dataframe tbody tr th:only-of-type {\n",
       "        vertical-align: middle;\n",
       "    }\n",
       "\n",
       "    .dataframe tbody tr th {\n",
       "        vertical-align: top;\n",
       "    }\n",
       "\n",
       "    .dataframe thead th {\n",
       "        text-align: right;\n",
       "    }\n",
       "</style>\n",
       "<table border=\"1\" class=\"dataframe\">\n",
       "  <thead>\n",
       "    <tr style=\"text-align: right;\">\n",
       "      <th></th>\n",
       "      <th>author_id</th>\n",
       "      <th>author</th>\n",
       "    </tr>\n",
       "  </thead>\n",
       "  <tbody>\n",
       "    <tr>\n",
       "      <th>0</th>\n",
       "      <td>1</td>\n",
       "      <td>A.S. Byatt</td>\n",
       "    </tr>\n",
       "    <tr>\n",
       "      <th>1</th>\n",
       "      <td>2</td>\n",
       "      <td>Aesop/Laura Harris/Laura Gibbs</td>\n",
       "    </tr>\n",
       "    <tr>\n",
       "      <th>2</th>\n",
       "      <td>3</td>\n",
       "      <td>Agatha Christie</td>\n",
       "    </tr>\n",
       "    <tr>\n",
       "      <th>3</th>\n",
       "      <td>4</td>\n",
       "      <td>Alan Brennert</td>\n",
       "    </tr>\n",
       "    <tr>\n",
       "      <th>4</th>\n",
       "      <td>5</td>\n",
       "      <td>Alan Moore/David   Lloyd</td>\n",
       "    </tr>\n",
       "  </tbody>\n",
       "</table>\n",
       "</div>"
      ],
      "text/plain": [
       "   author_id                          author\n",
       "0          1                      A.S. Byatt\n",
       "1          2  Aesop/Laura Harris/Laura Gibbs\n",
       "2          3                 Agatha Christie\n",
       "3          4                   Alan Brennert\n",
       "4          5        Alan Moore/David   Lloyd"
      ]
     },
     "metadata": {},
     "output_type": "display_data"
    }
   ],
   "source": [
    "query_2 = '''SELECT * FROM authors LIMIT 5'''\n",
    "con=engine.connect()\n",
    "authors = pd.io.sql.read_sql(sql=text(query_2), con = con)\n",
    "print('\\t\\t\\t\\t Данные об авторах')\n",
    "display(authors)"
   ]
  },
  {
   "cell_type": "code",
   "execution_count": 5,
   "metadata": {
    "scrolled": true
   },
   "outputs": [
    {
     "name": "stdout",
     "output_type": "stream",
     "text": [
      "\n",
      "\tИнформация об authors: \n",
      "\n",
      "<class 'pandas.core.frame.DataFrame'>\n",
      "RangeIndex: 636 entries, 0 to 635\n",
      "Data columns (total 2 columns):\n",
      " #   Column     Non-Null Count  Dtype \n",
      "---  ------     --------------  ----- \n",
      " 0   author_id  636 non-null    int64 \n",
      " 1   author     636 non-null    object\n",
      "dtypes: int64(1), object(1)\n",
      "memory usage: 10.1+ KB\n",
      "\n",
      "Количество строк и столбцов: (636, 2)\n",
      "\n",
      "Информация по пропускам: \n",
      "\n",
      "author_id    0\n",
      "author       0\n",
      "dtype: int64\n",
      "Количество дубликатов: 0\n"
     ]
    }
   ],
   "source": [
    "#выведем общую информацию по таблице:\n",
    "query_2 = '''SELECT * FROM authors'''\n",
    "con=engine.connect()\n",
    "authors = pd.io.sql.read_sql(sql=text(query_2), con = con)\n",
    "\n",
    "print ('\\n\\tИнформация об authors: \\n') \n",
    "authors.info()\n",
    "\n",
    "#выведем размер исходной таблицы:\n",
    "print ('\\nКоличество строк и столбцов:', authors.shape)\n",
    "\n",
    "#проверим на пропуски\n",
    "print ('\\nИнформация по пропускам: \\n') \n",
    "print(authors.isnull().sum())\n",
    "\n",
    "#проверим на дубликаты\n",
    "print ('Количество дубликатов:', authors.duplicated().sum())"
   ]
  },
  {
   "cell_type": "markdown",
   "metadata": {},
   "source": [
    "**Таблица authors содержит данные об авторе и его id. В таблице 636 строк и 2 столбца. Дубликаты и пропущенные значения не обнаружены.**"
   ]
  },
  {
   "cell_type": "code",
   "execution_count": 6,
   "metadata": {},
   "outputs": [
    {
     "name": "stdout",
     "output_type": "stream",
     "text": [
      "\t\t\t\t Данные об издательствах\n"
     ]
    }
   ],
   "source": [
    "query_3 = '''SELECT * FROM publishers LIMIT 5'''\n",
    "con=engine.connect()\n",
    "publishers = pd.io.sql.read_sql(sql=text(query_3), con = con)\n",
    "print('\\t\\t\\t\\t Данные об издательствах')"
   ]
  },
  {
   "cell_type": "code",
   "execution_count": 7,
   "metadata": {},
   "outputs": [
    {
     "name": "stdout",
     "output_type": "stream",
     "text": [
      "\n",
      "\tИнформация о publishers: \n",
      "\n",
      "<class 'pandas.core.frame.DataFrame'>\n",
      "RangeIndex: 340 entries, 0 to 339\n",
      "Data columns (total 2 columns):\n",
      " #   Column        Non-Null Count  Dtype \n",
      "---  ------        --------------  ----- \n",
      " 0   publisher_id  340 non-null    int64 \n",
      " 1   publisher     340 non-null    object\n",
      "dtypes: int64(1), object(1)\n",
      "memory usage: 5.4+ KB\n",
      "\n",
      "Количество строк и столбцов: (340, 2)\n",
      "\n",
      "Информация по пропускам: \n",
      "\n",
      "publisher_id    0\n",
      "publisher       0\n",
      "dtype: int64\n",
      "Количество дубликатов: 0\n"
     ]
    }
   ],
   "source": [
    "#выведем общую информацию по таблице:\n",
    "query_3 = '''SELECT * FROM publishers'''\n",
    "con=engine.connect()\n",
    "publishers = pd.io.sql.read_sql(sql=text(query_3), con = con)\n",
    "\n",
    "print ('\\n\\tИнформация о publishers: \\n') \n",
    "publishers.info()\n",
    "\n",
    "#выведем размер исходной таблицы:\n",
    "print ('\\nКоличество строк и столбцов:', publishers.shape)\n",
    "\n",
    "#проверим на пропуски\n",
    "print ('\\nИнформация по пропускам: \\n') \n",
    "print(publishers.isnull().sum())\n",
    "\n",
    "#проверим на дубликаты\n",
    "print ('Количество дубликатов:', publishers.duplicated().sum())"
   ]
  },
  {
   "cell_type": "markdown",
   "metadata": {},
   "source": [
    "**Таблица publishers содержит данные о самом издательстве и его id. В таблице 340 строк и 2 столбца. Дубликаты и пропущенные значения не обнаружены.**"
   ]
  },
  {
   "cell_type": "code",
   "execution_count": 8,
   "metadata": {},
   "outputs": [
    {
     "name": "stdout",
     "output_type": "stream",
     "text": [
      "\t\t\t\t Данные о пользовательских оценках книг\n"
     ]
    },
    {
     "data": {
      "text/html": [
       "<div>\n",
       "<style scoped>\n",
       "    .dataframe tbody tr th:only-of-type {\n",
       "        vertical-align: middle;\n",
       "    }\n",
       "\n",
       "    .dataframe tbody tr th {\n",
       "        vertical-align: top;\n",
       "    }\n",
       "\n",
       "    .dataframe thead th {\n",
       "        text-align: right;\n",
       "    }\n",
       "</style>\n",
       "<table border=\"1\" class=\"dataframe\">\n",
       "  <thead>\n",
       "    <tr style=\"text-align: right;\">\n",
       "      <th></th>\n",
       "      <th>rating_id</th>\n",
       "      <th>book_id</th>\n",
       "      <th>username</th>\n",
       "      <th>rating</th>\n",
       "    </tr>\n",
       "  </thead>\n",
       "  <tbody>\n",
       "    <tr>\n",
       "      <th>0</th>\n",
       "      <td>1</td>\n",
       "      <td>1</td>\n",
       "      <td>ryanfranco</td>\n",
       "      <td>4</td>\n",
       "    </tr>\n",
       "    <tr>\n",
       "      <th>1</th>\n",
       "      <td>2</td>\n",
       "      <td>1</td>\n",
       "      <td>grantpatricia</td>\n",
       "      <td>2</td>\n",
       "    </tr>\n",
       "    <tr>\n",
       "      <th>2</th>\n",
       "      <td>3</td>\n",
       "      <td>1</td>\n",
       "      <td>brandtandrea</td>\n",
       "      <td>5</td>\n",
       "    </tr>\n",
       "    <tr>\n",
       "      <th>3</th>\n",
       "      <td>4</td>\n",
       "      <td>2</td>\n",
       "      <td>lorichen</td>\n",
       "      <td>3</td>\n",
       "    </tr>\n",
       "    <tr>\n",
       "      <th>4</th>\n",
       "      <td>5</td>\n",
       "      <td>2</td>\n",
       "      <td>mariokeller</td>\n",
       "      <td>2</td>\n",
       "    </tr>\n",
       "  </tbody>\n",
       "</table>\n",
       "</div>"
      ],
      "text/plain": [
       "   rating_id  book_id       username  rating\n",
       "0          1        1     ryanfranco       4\n",
       "1          2        1  grantpatricia       2\n",
       "2          3        1   brandtandrea       5\n",
       "3          4        2       lorichen       3\n",
       "4          5        2    mariokeller       2"
      ]
     },
     "metadata": {},
     "output_type": "display_data"
    }
   ],
   "source": [
    "query_4 = '''SELECT * FROM ratings LIMIT 5'''\n",
    "con=engine.connect()\n",
    "ratings = pd.io.sql.read_sql(sql=text(query_4), con = con)\n",
    "print('\\t\\t\\t\\t Данные о пользовательских оценках книг')\n",
    "display(ratings)"
   ]
  },
  {
   "cell_type": "code",
   "execution_count": 9,
   "metadata": {},
   "outputs": [
    {
     "name": "stdout",
     "output_type": "stream",
     "text": [
      "\n",
      "\tИнформация о ratings: \n",
      "\n",
      "<class 'pandas.core.frame.DataFrame'>\n",
      "RangeIndex: 6456 entries, 0 to 6455\n",
      "Data columns (total 4 columns):\n",
      " #   Column     Non-Null Count  Dtype \n",
      "---  ------     --------------  ----- \n",
      " 0   rating_id  6456 non-null   int64 \n",
      " 1   book_id    6456 non-null   int64 \n",
      " 2   username   6456 non-null   object\n",
      " 3   rating     6456 non-null   int64 \n",
      "dtypes: int64(3), object(1)\n",
      "memory usage: 201.9+ KB\n",
      "\n",
      "Количество строк и столбцов: (6456, 4)\n",
      "\n",
      "Информация по пропускам: \n",
      "\n",
      "rating_id    0\n",
      "book_id      0\n",
      "username     0\n",
      "rating       0\n",
      "dtype: int64\n",
      "Количество дубликатов: 0\n"
     ]
    }
   ],
   "source": [
    "#выведем общую информацию по таблице:\n",
    "query_4 = '''SELECT * FROM ratings'''\n",
    "con=engine.connect()\n",
    "ratings = pd.io.sql.read_sql(sql=text(query_4), con = con)\n",
    "\n",
    "print ('\\n\\tИнформация о ratings: \\n') \n",
    "ratings.info()\n",
    "\n",
    "#выведем размер исходной таблицы:\n",
    "print ('\\nКоличество строк и столбцов:', ratings.shape)\n",
    "\n",
    "#проверим на пропуски\n",
    "print ('\\nИнформация по пропускам: \\n') \n",
    "print(ratings.isnull().sum())\n",
    "\n",
    "#проверим на дубликаты\n",
    "print ('Количество дубликатов:', ratings.duplicated().sum())"
   ]
  },
  {
   "cell_type": "markdown",
   "metadata": {},
   "source": [
    "**Таблица ratings содержит данные об имени пльзователя, оставившего оценку, непосредственно саму оценку, id оценки и книги. В таблице 6456 строки и 4 столбца. Дубликаты и пропущенные значения не обнаружены.**"
   ]
  },
  {
   "cell_type": "code",
   "execution_count": 10,
   "metadata": {},
   "outputs": [
    {
     "name": "stdout",
     "output_type": "stream",
     "text": [
      "\t\t\t\t Данные о пользовательских обзорах\n"
     ]
    },
    {
     "data": {
      "text/html": [
       "<div>\n",
       "<style scoped>\n",
       "    .dataframe tbody tr th:only-of-type {\n",
       "        vertical-align: middle;\n",
       "    }\n",
       "\n",
       "    .dataframe tbody tr th {\n",
       "        vertical-align: top;\n",
       "    }\n",
       "\n",
       "    .dataframe thead th {\n",
       "        text-align: right;\n",
       "    }\n",
       "</style>\n",
       "<table border=\"1\" class=\"dataframe\">\n",
       "  <thead>\n",
       "    <tr style=\"text-align: right;\">\n",
       "      <th></th>\n",
       "      <th>review_id</th>\n",
       "      <th>book_id</th>\n",
       "      <th>username</th>\n",
       "      <th>text</th>\n",
       "    </tr>\n",
       "  </thead>\n",
       "  <tbody>\n",
       "    <tr>\n",
       "      <th>0</th>\n",
       "      <td>1</td>\n",
       "      <td>1</td>\n",
       "      <td>brandtandrea</td>\n",
       "      <td>Mention society tell send professor analysis. ...</td>\n",
       "    </tr>\n",
       "    <tr>\n",
       "      <th>1</th>\n",
       "      <td>2</td>\n",
       "      <td>1</td>\n",
       "      <td>ryanfranco</td>\n",
       "      <td>Foot glass pretty audience hit themselves. Amo...</td>\n",
       "    </tr>\n",
       "    <tr>\n",
       "      <th>2</th>\n",
       "      <td>3</td>\n",
       "      <td>2</td>\n",
       "      <td>lorichen</td>\n",
       "      <td>Listen treat keep worry. Miss husband tax but ...</td>\n",
       "    </tr>\n",
       "    <tr>\n",
       "      <th>3</th>\n",
       "      <td>4</td>\n",
       "      <td>3</td>\n",
       "      <td>johnsonamanda</td>\n",
       "      <td>Finally month interesting blue could nature cu...</td>\n",
       "    </tr>\n",
       "    <tr>\n",
       "      <th>4</th>\n",
       "      <td>5</td>\n",
       "      <td>3</td>\n",
       "      <td>scotttamara</td>\n",
       "      <td>Nation purpose heavy give wait song will. List...</td>\n",
       "    </tr>\n",
       "  </tbody>\n",
       "</table>\n",
       "</div>"
      ],
      "text/plain": [
       "   review_id  book_id       username  \\\n",
       "0          1        1   brandtandrea   \n",
       "1          2        1     ryanfranco   \n",
       "2          3        2       lorichen   \n",
       "3          4        3  johnsonamanda   \n",
       "4          5        3    scotttamara   \n",
       "\n",
       "                                                text  \n",
       "0  Mention society tell send professor analysis. ...  \n",
       "1  Foot glass pretty audience hit themselves. Amo...  \n",
       "2  Listen treat keep worry. Miss husband tax but ...  \n",
       "3  Finally month interesting blue could nature cu...  \n",
       "4  Nation purpose heavy give wait song will. List...  "
      ]
     },
     "metadata": {},
     "output_type": "display_data"
    }
   ],
   "source": [
    "query_5 = '''SELECT * FROM reviews LIMIT 5'''\n",
    "con=engine.connect()\n",
    "reviews = pd.io.sql.read_sql(sql=text(query_5), con = con)\n",
    "print('\\t\\t\\t\\t Данные о пользовательских обзорах')\n",
    "display(reviews)"
   ]
  },
  {
   "cell_type": "code",
   "execution_count": 11,
   "metadata": {
    "scrolled": true
   },
   "outputs": [
    {
     "name": "stdout",
     "output_type": "stream",
     "text": [
      "\n",
      "\tИнформация о reviews: \n",
      "\n",
      "<class 'pandas.core.frame.DataFrame'>\n",
      "RangeIndex: 2793 entries, 0 to 2792\n",
      "Data columns (total 4 columns):\n",
      " #   Column     Non-Null Count  Dtype \n",
      "---  ------     --------------  ----- \n",
      " 0   review_id  2793 non-null   int64 \n",
      " 1   book_id    2793 non-null   int64 \n",
      " 2   username   2793 non-null   object\n",
      " 3   text       2793 non-null   object\n",
      "dtypes: int64(2), object(2)\n",
      "memory usage: 87.4+ KB\n",
      "\n",
      "Количество строк и столбцов: (2793, 4)\n",
      "\n",
      "Информация по пропускам: \n",
      "\n",
      "review_id    0\n",
      "book_id      0\n",
      "username     0\n",
      "text         0\n",
      "dtype: int64\n",
      "Количество дубликатов: 0\n"
     ]
    }
   ],
   "source": [
    "#выведем общую информацию по таблице:\n",
    "query_5 = '''SELECT * FROM reviews'''\n",
    "con=engine.connect()\n",
    "reviews = pd.io.sql.read_sql(sql=text(query_5), con = con)\n",
    "\n",
    "print ('\\n\\tИнформация о reviews: \\n') \n",
    "reviews.info()\n",
    "\n",
    "#выведем размер исходной таблицы:\n",
    "print ('\\nКоличество строк и столбцов:', reviews.shape)\n",
    "\n",
    "#проверим на пропуски\n",
    "print ('\\nИнформация по пропускам: \\n') \n",
    "print(reviews.isnull().sum())\n",
    "\n",
    "#проверим на дубликаты\n",
    "print ('Количество дубликатов:', reviews.duplicated().sum())"
   ]
  },
  {
   "cell_type": "markdown",
   "metadata": {},
   "source": [
    "**Таблица reviews содержит данные об имени автора обзора, сам текст обзора, id обзора и книги. В таблице 2793 строки и 4 столбца. Дубликаты и пропущенные значения не обнаружены.**"
   ]
  },
  {
   "cell_type": "markdown",
   "metadata": {},
   "source": [
    "**Таким образом, мы исследовали таблицы и можем сделать следующие выводы:**\n",
    "\n",
    "- **Таблица books содержит данные о названии книги, количестве страниц, дате публикации, id книги, автора и издательства. В таблице 1000 строк и 6 столбцов. Дубликаты и пропущенные значения не обнаружены.**\n",
    "\n",
    "- **Таблица authors содержит данные об авторе и его id. В таблице 636 строк и 2 столбца. Дубликаты и пропущенные значения не обнаружены.**\n",
    "\n",
    "- **Таблица publishers содержит данные о самом издательстве и его id. В таблице 340 строк и 2 столбца. Дубликаты и пропущенные значения не обнаружены.**\n",
    "\n",
    "- **Таблица ratings содержит данные об имени пльзователя, оставившего оценку, непосредственно саму оценку, id оценки и книги. В таблице 6456 строки и 4 столбца. Дубликаты и пропущенные значения не обнаружены.**\n",
    "\n",
    "- **Таблица reviews содержит данные об имени автора обзора, сам текст обзора, id обзора и книги. В таблице 2793 строки и 4 столбца. Дубликаты и пропущенные значения не обнаружены.**"
   ]
  },
  {
   "cell_type": "markdown",
   "metadata": {},
   "source": [
    "### Посчитать, сколько книг вышло после 1 января 2000 года"
   ]
  },
  {
   "cell_type": "code",
   "execution_count": 12,
   "metadata": {},
   "outputs": [
    {
     "name": "stdout",
     "output_type": "stream",
     "text": [
      "Количество выпущенных книг после 01 января 2000 г.:\n"
     ]
    },
    {
     "data": {
      "text/html": [
       "<div>\n",
       "<style scoped>\n",
       "    .dataframe tbody tr th:only-of-type {\n",
       "        vertical-align: middle;\n",
       "    }\n",
       "\n",
       "    .dataframe tbody tr th {\n",
       "        vertical-align: top;\n",
       "    }\n",
       "\n",
       "    .dataframe thead th {\n",
       "        text-align: right;\n",
       "    }\n",
       "</style>\n",
       "<table border=\"1\" class=\"dataframe\">\n",
       "  <thead>\n",
       "    <tr style=\"text-align: right;\">\n",
       "      <th></th>\n",
       "      <th>count</th>\n",
       "    </tr>\n",
       "  </thead>\n",
       "  <tbody>\n",
       "    <tr>\n",
       "      <th>0</th>\n",
       "      <td>819</td>\n",
       "    </tr>\n",
       "  </tbody>\n",
       "</table>\n",
       "</div>"
      ],
      "text/plain": [
       "   count\n",
       "0    819"
      ]
     },
     "execution_count": 12,
     "metadata": {},
     "output_type": "execute_result"
    }
   ],
   "source": [
    "a = '''\n",
    "        SELECT COUNT(DISTINCT book_id ) \n",
    "        FROM books \n",
    "        WHERE publication_date > '2000-01-01'\n",
    "    '''\n",
    "con=engine.connect()\n",
    "abc = pd.io.sql.read_sql(sql=text(a), con = con)\n",
    "print('Количество выпущенных книг после 01 января 2000 г.:')\n",
    "abc"
   ]
  },
  {
   "cell_type": "markdown",
   "metadata": {},
   "source": [
    "**После 01 января 2000 г было выпущено 819 книг.**"
   ]
  },
  {
   "cell_type": "markdown",
   "metadata": {},
   "source": [
    "### Для каждой книги посчитать количество обзоров и среднюю оценку"
   ]
  },
  {
   "cell_type": "code",
   "execution_count": 13,
   "metadata": {
    "scrolled": false
   },
   "outputs": [
    {
     "name": "stdout",
     "output_type": "stream",
     "text": [
      "Информация по книгам с количеством обзоров и средним рейтингом\n"
     ]
    },
    {
     "data": {
      "text/html": [
       "<div>\n",
       "<style scoped>\n",
       "    .dataframe tbody tr th:only-of-type {\n",
       "        vertical-align: middle;\n",
       "    }\n",
       "\n",
       "    .dataframe tbody tr th {\n",
       "        vertical-align: top;\n",
       "    }\n",
       "\n",
       "    .dataframe thead th {\n",
       "        text-align: right;\n",
       "    }\n",
       "</style>\n",
       "<table border=\"1\" class=\"dataframe\">\n",
       "  <thead>\n",
       "    <tr style=\"text-align: right;\">\n",
       "      <th></th>\n",
       "      <th>title</th>\n",
       "      <th>book_id</th>\n",
       "      <th>count_review_id</th>\n",
       "      <th>mean_rating</th>\n",
       "    </tr>\n",
       "  </thead>\n",
       "  <tbody>\n",
       "    <tr>\n",
       "      <th>0</th>\n",
       "      <td>Twilight (Twilight  #1)</td>\n",
       "      <td>948</td>\n",
       "      <td>7</td>\n",
       "      <td>3.662500</td>\n",
       "    </tr>\n",
       "    <tr>\n",
       "      <th>1</th>\n",
       "      <td>Harry Potter and the Prisoner of Azkaban (Harr...</td>\n",
       "      <td>302</td>\n",
       "      <td>6</td>\n",
       "      <td>4.414634</td>\n",
       "    </tr>\n",
       "    <tr>\n",
       "      <th>2</th>\n",
       "      <td>Harry Potter and the Chamber of Secrets (Harry...</td>\n",
       "      <td>299</td>\n",
       "      <td>6</td>\n",
       "      <td>4.287500</td>\n",
       "    </tr>\n",
       "    <tr>\n",
       "      <th>3</th>\n",
       "      <td>The Book Thief</td>\n",
       "      <td>656</td>\n",
       "      <td>6</td>\n",
       "      <td>4.264151</td>\n",
       "    </tr>\n",
       "    <tr>\n",
       "      <th>4</th>\n",
       "      <td>The Glass Castle</td>\n",
       "      <td>734</td>\n",
       "      <td>6</td>\n",
       "      <td>4.206897</td>\n",
       "    </tr>\n",
       "    <tr>\n",
       "      <th>...</th>\n",
       "      <td>...</td>\n",
       "      <td>...</td>\n",
       "      <td>...</td>\n",
       "      <td>...</td>\n",
       "    </tr>\n",
       "    <tr>\n",
       "      <th>995</th>\n",
       "      <td>Disney's Beauty and the Beast (A Little Golden...</td>\n",
       "      <td>191</td>\n",
       "      <td>0</td>\n",
       "      <td>4.000000</td>\n",
       "    </tr>\n",
       "    <tr>\n",
       "      <th>996</th>\n",
       "      <td>Leonardo's Notebooks</td>\n",
       "      <td>387</td>\n",
       "      <td>0</td>\n",
       "      <td>4.000000</td>\n",
       "    </tr>\n",
       "    <tr>\n",
       "      <th>997</th>\n",
       "      <td>Essential Tales and Poems</td>\n",
       "      <td>221</td>\n",
       "      <td>0</td>\n",
       "      <td>4.000000</td>\n",
       "    </tr>\n",
       "    <tr>\n",
       "      <th>998</th>\n",
       "      <td>Anne Rice's The Vampire Lestat: A Graphic Novel</td>\n",
       "      <td>83</td>\n",
       "      <td>0</td>\n",
       "      <td>3.666667</td>\n",
       "    </tr>\n",
       "    <tr>\n",
       "      <th>999</th>\n",
       "      <td>The Natural Way to Draw</td>\n",
       "      <td>808</td>\n",
       "      <td>0</td>\n",
       "      <td>3.000000</td>\n",
       "    </tr>\n",
       "  </tbody>\n",
       "</table>\n",
       "<p>1000 rows × 4 columns</p>\n",
       "</div>"
      ],
      "text/plain": [
       "                                                 title  book_id  \\\n",
       "0                              Twilight (Twilight  #1)      948   \n",
       "1    Harry Potter and the Prisoner of Azkaban (Harr...      302   \n",
       "2    Harry Potter and the Chamber of Secrets (Harry...      299   \n",
       "3                                       The Book Thief      656   \n",
       "4                                     The Glass Castle      734   \n",
       "..                                                 ...      ...   \n",
       "995  Disney's Beauty and the Beast (A Little Golden...      191   \n",
       "996                               Leonardo's Notebooks      387   \n",
       "997                          Essential Tales and Poems      221   \n",
       "998    Anne Rice's The Vampire Lestat: A Graphic Novel       83   \n",
       "999                            The Natural Way to Draw      808   \n",
       "\n",
       "     count_review_id  mean_rating  \n",
       "0                  7     3.662500  \n",
       "1                  6     4.414634  \n",
       "2                  6     4.287500  \n",
       "3                  6     4.264151  \n",
       "4                  6     4.206897  \n",
       "..               ...          ...  \n",
       "995                0     4.000000  \n",
       "996                0     4.000000  \n",
       "997                0     4.000000  \n",
       "998                0     3.666667  \n",
       "999                0     3.000000  \n",
       "\n",
       "[1000 rows x 4 columns]"
      ]
     },
     "execution_count": 13,
     "metadata": {},
     "output_type": "execute_result"
    }
   ],
   "source": [
    "b = '''\n",
    "        SELECT \n",
    "               title, \n",
    "               bo.book_id,\n",
    "               COUNT (DISTINCT re.review_id) as count_review_id,\n",
    "               AVG(ra.rating)  as mean_rating\n",
    "        FROM books AS bo   \n",
    "        FULL JOIN reviews AS re ON  bo.book_id = re.book_id\n",
    "        FULL JOIN ratings AS ra ON  bo.book_id = ra.book_id\n",
    "        GROUP BY bo.book_id\n",
    "        ORDER BY count_review_id DESC, mean_rating DESC\n",
    "    '''\n",
    "con=engine.connect()\n",
    "fde = pd.io.sql.read_sql(sql=text(b), con = con)\n",
    "print('Информация по книгам с количеством обзоров и средним рейтингом')\n",
    "fde"
   ]
  },
  {
   "cell_type": "markdown",
   "metadata": {},
   "source": [
    "**Наибольшее количество обзоров у Twilight (7), а средний рейтинг у Harry Potter and the Prisoner of Azkaban (4.414634).**"
   ]
  },
  {
   "cell_type": "markdown",
   "metadata": {},
   "source": [
    "### Определить издательство, которое выпустило наибольшее число книг толще 50 страниц — так  исключим из анализа брошюры"
   ]
  },
  {
   "cell_type": "code",
   "execution_count": 14,
   "metadata": {},
   "outputs": [
    {
     "name": "stdout",
     "output_type": "stream",
     "text": [
      "Издательство, выпустившее наибольшее число книг толще 50 страниц\n"
     ]
    },
    {
     "data": {
      "text/html": [
       "<div>\n",
       "<style scoped>\n",
       "    .dataframe tbody tr th:only-of-type {\n",
       "        vertical-align: middle;\n",
       "    }\n",
       "\n",
       "    .dataframe tbody tr th {\n",
       "        vertical-align: top;\n",
       "    }\n",
       "\n",
       "    .dataframe thead th {\n",
       "        text-align: right;\n",
       "    }\n",
       "</style>\n",
       "<table border=\"1\" class=\"dataframe\">\n",
       "  <thead>\n",
       "    <tr style=\"text-align: right;\">\n",
       "      <th></th>\n",
       "      <th>publisher</th>\n",
       "      <th>count_pub</th>\n",
       "    </tr>\n",
       "  </thead>\n",
       "  <tbody>\n",
       "    <tr>\n",
       "      <th>0</th>\n",
       "      <td>Penguin Books</td>\n",
       "      <td>42</td>\n",
       "    </tr>\n",
       "  </tbody>\n",
       "</table>\n",
       "</div>"
      ],
      "text/plain": [
       "       publisher  count_pub\n",
       "0  Penguin Books         42"
      ]
     },
     "execution_count": 14,
     "metadata": {},
     "output_type": "execute_result"
    }
   ],
   "source": [
    "c = '''\n",
    "        SELECT \n",
    "              pu.publisher,\n",
    "              COUNT(DISTINCT bo.book_id) AS count_pub\n",
    "        FROM books bo\n",
    "        INNER JOIN publishers AS pu ON pu.publisher_id=bo.publisher_id\n",
    "        WHERE num_pages > 50\n",
    "        GROUP BY pu.publisher\n",
    "        ORDER BY count_pub DESC\n",
    "        LIMIT 1\n",
    "    '''\n",
    "con=engine.connect()\n",
    "gh = pd.io.sql.read_sql(sql=text(c), con = con)\n",
    "print('Издательство, выпустившее наибольшее число книг толще 50 страниц')\n",
    "gh"
   ]
  },
  {
   "cell_type": "markdown",
   "metadata": {},
   "source": [
    "**Наибольшее число книг толще 50 страниц выпустило Penguin Books (42 книги).**"
   ]
  },
  {
   "cell_type": "markdown",
   "metadata": {},
   "source": [
    "### Определить автора с самой высокой средней оценкой книг — необходимо учитывать только книги с 50 и более оценками"
   ]
  },
  {
   "cell_type": "code",
   "execution_count": 15,
   "metadata": {},
   "outputs": [
    {
     "name": "stdout",
     "output_type": "stream",
     "text": [
      "Автор с самой высокой средней оценкой книги\n"
     ]
    },
    {
     "data": {
      "text/html": [
       "<div>\n",
       "<style scoped>\n",
       "    .dataframe tbody tr th:only-of-type {\n",
       "        vertical-align: middle;\n",
       "    }\n",
       "\n",
       "    .dataframe tbody tr th {\n",
       "        vertical-align: top;\n",
       "    }\n",
       "\n",
       "    .dataframe thead th {\n",
       "        text-align: right;\n",
       "    }\n",
       "</style>\n",
       "<table border=\"1\" class=\"dataframe\">\n",
       "  <thead>\n",
       "    <tr style=\"text-align: right;\">\n",
       "      <th></th>\n",
       "      <th>author_id</th>\n",
       "      <th>author</th>\n",
       "      <th>mean_rating</th>\n",
       "    </tr>\n",
       "  </thead>\n",
       "  <tbody>\n",
       "    <tr>\n",
       "      <th>0</th>\n",
       "      <td>236</td>\n",
       "      <td>J.K. Rowling/Mary GrandPré</td>\n",
       "      <td>4.287097</td>\n",
       "    </tr>\n",
       "  </tbody>\n",
       "</table>\n",
       "</div>"
      ],
      "text/plain": [
       "   author_id                      author  mean_rating\n",
       "0        236  J.K. Rowling/Mary GrandPré     4.287097"
      ]
     },
     "execution_count": 15,
     "metadata": {},
     "output_type": "execute_result"
    }
   ],
   "source": [
    "e = '''\n",
    "        SELECT au.author_id,\n",
    "               au.author,\n",
    "               AVG(rating) AS mean_rating\n",
    "        FROM books bo\n",
    "        INNER JOIN authors AS au ON au.author_id=bo.author_id\n",
    "        INNER JOIN ratings AS ra ON ra.book_id=bo.book_id\n",
    "        WHERE bo.book_id IN (SELECT book_id                  \n",
    "                          FROM ratings\n",
    "                          GROUP BY book_id\n",
    "                          HAVING COUNT(rating_id) >= 50)\n",
    "        GROUP BY au.author_id                      \n",
    "        ORDER BY mean_rating DESC\n",
    "        LIMIT 1\n",
    "    '''\n",
    "con=engine.connect()\n",
    "jrt = pd.io.sql.read_sql(sql=text(e), con = con)\n",
    "print('Автор с самой высокой средней оценкой книги')\n",
    "jrt"
   ]
  },
  {
   "cell_type": "markdown",
   "metadata": {},
   "source": [
    "**Автор с самой высокой средней оценкой книги - J.K. Rowling/Mary GrandPré (4.287097)**"
   ]
  },
  {
   "cell_type": "markdown",
   "metadata": {},
   "source": [
    "### Посчитать среднее количество обзоров от пользователей, которые поставили больше 48 оценок"
   ]
  },
  {
   "cell_type": "code",
   "execution_count": 16,
   "metadata": {},
   "outputs": [
    {
     "name": "stdout",
     "output_type": "stream",
     "text": [
      "Среднее количество обзоров от пользователей, которые поставили больше 48 оценок\n"
     ]
    },
    {
     "data": {
      "text/html": [
       "<div>\n",
       "<style scoped>\n",
       "    .dataframe tbody tr th:only-of-type {\n",
       "        vertical-align: middle;\n",
       "    }\n",
       "\n",
       "    .dataframe tbody tr th {\n",
       "        vertical-align: top;\n",
       "    }\n",
       "\n",
       "    .dataframe thead th {\n",
       "        text-align: right;\n",
       "    }\n",
       "</style>\n",
       "<table border=\"1\" class=\"dataframe\">\n",
       "  <thead>\n",
       "    <tr style=\"text-align: right;\">\n",
       "      <th></th>\n",
       "      <th>avg</th>\n",
       "    </tr>\n",
       "  </thead>\n",
       "  <tbody>\n",
       "    <tr>\n",
       "      <th>0</th>\n",
       "      <td>24.0</td>\n",
       "    </tr>\n",
       "  </tbody>\n",
       "</table>\n",
       "</div>"
      ],
      "text/plain": [
       "    avg\n",
       "0  24.0"
      ]
     },
     "execution_count": 16,
     "metadata": {},
     "output_type": "execute_result"
    }
   ],
   "source": [
    "f = ''' \n",
    "        SELECT AVG(count)\n",
    "        FROM \n",
    "            (SELECT username,\n",
    "                    COUNT (review_id) AS count\n",
    "             FROM reviews\n",
    "             WHERE username IN (SELECT username\n",
    "                               FROM ratings\n",
    "                               GROUP BY username\n",
    "                               HAVING COUNT (rating_id) > 48)\n",
    "            GROUP BY username) AS k           \n",
    "    '''\n",
    "con=engine.connect()\n",
    "jkl = pd.io.sql.read_sql(sql=text(f), con = con)\n",
    "print('Среднее количество обзоров от пользователей, которые поставили больше 48 оценок')\n",
    "jkl"
   ]
  },
  {
   "cell_type": "markdown",
   "metadata": {},
   "source": [
    "**Среднее количество обзоров от пользователей, которые поставили больше 48 оценок: 24.**"
   ]
  },
  {
   "cell_type": "markdown",
   "metadata": {},
   "source": [
    "### Вывод"
   ]
  },
  {
   "cell_type": "markdown",
   "metadata": {},
   "source": [
    "**Таким образом, можем сделать следующие выводы:**\n",
    "\n",
    "- исследовали имеющиеся в нашем распоряжении таблицы:\n",
    "\n",
    "        - таблица books содержит данные о названии книги, количестве страниц, дате публикации, id книги, автора и издательства. В таблице 1000 строк и 6 столбцов. Дубликаты и пропущенные значения не обнаружены;\n",
    "\n",
    "        - таблица authors содержит данные об авторе и его id. В таблице 636 строк и 2 столбца. Дубликаты и пропущенные значения не обнаружены.\n",
    "\n",
    "        - таблица publishers содержит данные о самом издательстве и его id. В таблице 340 строк и 2 столбца. Дубликаты и пропущенные значения не обнаружены;\n",
    "\n",
    "        - таблица ratings содержит данные об имени пльзователя, оставившего оценку, непосредственно саму оценку, id оценки и книги. В таблице 6456 строки и 4 столбца. Дубликаты и пропущенные значения не обнаружены;\n",
    "\n",
    "        - таблица reviews содержит данные об имени автора обзора, сам текст обзора, id обзора и книги. В таблице 2793 строки и 4 столбца. Дубликаты и пропущенные значения не обнаружены.\n",
    "        \n",
    "- После 01 января 2000 г было выпущено 819 книг.\n",
    "\n",
    "- Наибольшее количество обзоров у Twilight (7), а средний рейтинг у Harry Potter and the Prisoner of Azkaban (4.414634).\n",
    "\n",
    "- Наибольшее число книг толще 50 страниц выпустило Penguin Books (42 книги).\n",
    "\n",
    "- Автор с самой высокой средней оценкой книги - J.K. Rowling/Mary GrandPré (4.287097)\n",
    "\n",
    "- Среднее количество обзоров от пользователей, которые поставили больше 48 оценок: 24."
   ]
  }
 ],
 "metadata": {
  "ExecuteTimeLog": [
   {
    "duration": 89,
    "start_time": "2024-02-09T03:28:45.907Z"
   },
   {
    "duration": 94,
    "start_time": "2024-02-09T03:28:48.982Z"
   },
   {
    "duration": 71,
    "start_time": "2024-02-09T03:28:50.806Z"
   },
   {
    "duration": 77,
    "start_time": "2024-02-09T03:28:53.475Z"
   },
   {
    "duration": 81,
    "start_time": "2024-02-09T03:28:54.492Z"
   },
   {
    "duration": 137,
    "start_time": "2024-02-09T03:29:10.054Z"
   },
   {
    "duration": 101,
    "start_time": "2024-02-09T03:29:15.598Z"
   },
   {
    "duration": 8984,
    "start_time": "2024-02-09T03:29:19.571Z"
   },
   {
    "duration": 230,
    "start_time": "2024-02-09T03:29:32.185Z"
   },
   {
    "duration": 225,
    "start_time": "2024-02-09T03:30:16.332Z"
   },
   {
    "duration": 227,
    "start_time": "2024-02-09T03:30:49.926Z"
   },
   {
    "duration": 129,
    "start_time": "2024-02-09T03:33:36.569Z"
   },
   {
    "duration": 53,
    "start_time": "2024-02-09T03:33:45.836Z"
   },
   {
    "duration": 80,
    "start_time": "2024-02-09T03:37:28.224Z"
   },
   {
    "duration": 92,
    "start_time": "2024-02-09T03:37:29.992Z"
   },
   {
    "duration": 53,
    "start_time": "2024-02-09T03:37:33.003Z"
   },
   {
    "duration": 78,
    "start_time": "2024-02-09T03:37:49.441Z"
   },
   {
    "duration": 8,
    "start_time": "2024-02-09T03:37:52.536Z"
   },
   {
    "duration": 8,
    "start_time": "2024-02-09T03:37:54.615Z"
   },
   {
    "duration": 8,
    "start_time": "2024-02-09T03:38:00.744Z"
   },
   {
    "duration": 7,
    "start_time": "2024-02-09T03:38:03.825Z"
   },
   {
    "duration": 7,
    "start_time": "2024-02-09T03:38:09.047Z"
   },
   {
    "duration": 8,
    "start_time": "2024-02-09T03:38:16.111Z"
   },
   {
    "duration": 7,
    "start_time": "2024-02-09T03:38:17.258Z"
   },
   {
    "duration": 7,
    "start_time": "2024-02-09T03:38:18.512Z"
   },
   {
    "duration": 7,
    "start_time": "2024-02-09T03:38:19.312Z"
   },
   {
    "duration": 8,
    "start_time": "2024-02-09T03:38:20.592Z"
   },
   {
    "duration": 8,
    "start_time": "2024-02-09T03:38:21.775Z"
   },
   {
    "duration": 6,
    "start_time": "2024-02-09T03:38:22.937Z"
   },
   {
    "duration": 208,
    "start_time": "2024-02-09T03:38:24.734Z"
   },
   {
    "duration": 221,
    "start_time": "2024-02-09T03:38:27.938Z"
   },
   {
    "duration": 132,
    "start_time": "2024-02-09T03:38:35.633Z"
   },
   {
    "duration": 52,
    "start_time": "2024-02-09T03:38:37.787Z"
   },
   {
    "duration": 52,
    "start_time": "2024-02-09T03:38:39.739Z"
   },
   {
    "duration": 50,
    "start_time": "2024-02-09T03:40:18.284Z"
   },
   {
    "duration": 48,
    "start_time": "2024-02-09T03:40:36.611Z"
   },
   {
    "duration": 52,
    "start_time": "2024-02-09T03:40:43.220Z"
   },
   {
    "duration": 51,
    "start_time": "2024-02-09T03:40:46.623Z"
   },
   {
    "duration": 7,
    "start_time": "2024-02-09T03:42:43.208Z"
   },
   {
    "duration": 173,
    "start_time": "2024-02-09T03:42:51.062Z"
   },
   {
    "duration": 7,
    "start_time": "2024-02-09T03:43:30.664Z"
   },
   {
    "duration": 7,
    "start_time": "2024-02-09T03:43:32.656Z"
   },
   {
    "duration": 156,
    "start_time": "2024-02-09T03:43:37.402Z"
   },
   {
    "duration": 70,
    "start_time": "2024-02-09T03:43:59.343Z"
   },
   {
    "duration": 4,
    "start_time": "2024-02-09T03:46:35.930Z"
   },
   {
    "duration": 215,
    "start_time": "2024-02-09T03:46:40.425Z"
   },
   {
    "duration": 7,
    "start_time": "2024-02-09T03:47:29.159Z"
   },
   {
    "duration": 237,
    "start_time": "2024-02-09T03:47:46.956Z"
   },
   {
    "duration": 158,
    "start_time": "2024-02-09T03:47:52.404Z"
   },
   {
    "duration": 70,
    "start_time": "2024-02-09T03:49:27.549Z"
   },
   {
    "duration": 37,
    "start_time": "2024-02-09T03:49:35.450Z"
   },
   {
    "duration": 123,
    "start_time": "2024-02-09T03:50:04.003Z"
   },
   {
    "duration": 4,
    "start_time": "2024-02-09T03:50:18.619Z"
   },
   {
    "duration": 4,
    "start_time": "2024-02-09T03:50:35.171Z"
   },
   {
    "duration": 49,
    "start_time": "2024-02-09T03:51:22.404Z"
   },
   {
    "duration": 10,
    "start_time": "2024-02-09T03:51:24.140Z"
   },
   {
    "duration": 8,
    "start_time": "2024-02-09T03:51:51.685Z"
   },
   {
    "duration": 8,
    "start_time": "2024-02-09T03:51:58.413Z"
   },
   {
    "duration": 8,
    "start_time": "2024-02-09T03:52:02.036Z"
   },
   {
    "duration": 8,
    "start_time": "2024-02-09T03:52:08.421Z"
   },
   {
    "duration": 9,
    "start_time": "2024-02-09T03:52:16.473Z"
   },
   {
    "duration": 7,
    "start_time": "2024-02-09T03:52:18.752Z"
   },
   {
    "duration": 8,
    "start_time": "2024-02-09T03:52:27.602Z"
   },
   {
    "duration": 7,
    "start_time": "2024-02-09T03:52:33.758Z"
   },
   {
    "duration": 32,
    "start_time": "2024-02-09T03:53:00.453Z"
   },
   {
    "duration": 55,
    "start_time": "2024-02-09T03:53:16.587Z"
   },
   {
    "duration": 54,
    "start_time": "2024-02-09T03:53:23.453Z"
   },
   {
    "duration": 52,
    "start_time": "2024-02-09T03:53:25.565Z"
   },
   {
    "duration": 8,
    "start_time": "2024-02-09T03:53:32.366Z"
   },
   {
    "duration": 53,
    "start_time": "2024-02-09T03:53:33.360Z"
   },
   {
    "duration": 53,
    "start_time": "2024-02-09T03:54:15.333Z"
   },
   {
    "duration": 8,
    "start_time": "2024-02-09T03:54:26.654Z"
   },
   {
    "duration": 55,
    "start_time": "2024-02-09T03:54:34.602Z"
   },
   {
    "duration": 4,
    "start_time": "2024-02-09T03:54:40.338Z"
   },
   {
    "duration": 220,
    "start_time": "2024-02-09T03:54:41.043Z"
   },
   {
    "duration": 9,
    "start_time": "2024-02-09T03:54:41.821Z"
   },
   {
    "duration": 127,
    "start_time": "2024-02-09T03:54:43.649Z"
   },
   {
    "duration": 54,
    "start_time": "2024-02-09T03:54:48.936Z"
   },
   {
    "duration": 52,
    "start_time": "2024-02-09T03:55:18.989Z"
   },
   {
    "duration": 54,
    "start_time": "2024-02-09T03:55:22.344Z"
   },
   {
    "duration": 53,
    "start_time": "2024-02-09T03:55:26.906Z"
   },
   {
    "duration": 51,
    "start_time": "2024-02-09T03:55:41.716Z"
   },
   {
    "duration": 50,
    "start_time": "2024-02-09T03:55:46.812Z"
   },
   {
    "duration": 54,
    "start_time": "2024-02-09T03:56:29.778Z"
   },
   {
    "duration": 52,
    "start_time": "2024-02-09T03:57:09.167Z"
   },
   {
    "duration": 52,
    "start_time": "2024-02-09T03:57:11.373Z"
   },
   {
    "duration": 54,
    "start_time": "2024-02-09T03:57:34.233Z"
   },
   {
    "duration": 9,
    "start_time": "2024-02-09T03:57:37.954Z"
   },
   {
    "duration": 59,
    "start_time": "2024-02-09T03:57:53.730Z"
   },
   {
    "duration": 53,
    "start_time": "2024-02-09T03:58:04.603Z"
   },
   {
    "duration": 51,
    "start_time": "2024-02-09T03:58:10.213Z"
   },
   {
    "duration": 13,
    "start_time": "2024-02-09T03:58:28.811Z"
   },
   {
    "duration": 5,
    "start_time": "2024-02-09T03:58:55.618Z"
   },
   {
    "duration": 8,
    "start_time": "2024-02-09T04:01:23.969Z"
   },
   {
    "duration": 51,
    "start_time": "2024-02-09T04:01:40.255Z"
   },
   {
    "duration": 54,
    "start_time": "2024-02-09T04:01:42.056Z"
   },
   {
    "duration": 53,
    "start_time": "2024-02-09T04:01:49.523Z"
   },
   {
    "duration": 54,
    "start_time": "2024-02-09T04:02:29.991Z"
   },
   {
    "duration": 52,
    "start_time": "2024-02-09T04:02:31.082Z"
   },
   {
    "duration": 53,
    "start_time": "2024-02-09T04:02:33.326Z"
   },
   {
    "duration": 53,
    "start_time": "2024-02-09T04:03:32.524Z"
   },
   {
    "duration": 58,
    "start_time": "2024-02-09T04:03:34.133Z"
   },
   {
    "duration": 53,
    "start_time": "2024-02-09T04:03:36.017Z"
   },
   {
    "duration": 51,
    "start_time": "2024-02-09T04:03:41.239Z"
   },
   {
    "duration": 60,
    "start_time": "2024-02-09T04:03:43.296Z"
   },
   {
    "duration": 4,
    "start_time": "2024-02-09T04:03:47.721Z"
   },
   {
    "duration": 228,
    "start_time": "2024-02-09T04:03:57.048Z"
   },
   {
    "duration": 132,
    "start_time": "2024-02-09T04:03:59.745Z"
   },
   {
    "duration": 53,
    "start_time": "2024-02-09T04:04:06.250Z"
   },
   {
    "duration": 4,
    "start_time": "2024-02-09T04:10:22.179Z"
   },
   {
    "duration": 73,
    "start_time": "2024-02-09T04:10:27.151Z"
   },
   {
    "duration": 105,
    "start_time": "2024-02-09T04:10:39.337Z"
   },
   {
    "duration": 175,
    "start_time": "2024-02-09T04:12:13.976Z"
   },
   {
    "duration": 76,
    "start_time": "2024-02-09T04:12:33.818Z"
   },
   {
    "duration": 78,
    "start_time": "2024-02-09T04:12:43.924Z"
   },
   {
    "duration": 81,
    "start_time": "2024-02-09T04:13:00.244Z"
   },
   {
    "duration": 76,
    "start_time": "2024-02-09T04:13:03.677Z"
   },
   {
    "duration": 50,
    "start_time": "2024-02-09T04:13:07.910Z"
   },
   {
    "duration": 52,
    "start_time": "2024-02-09T04:14:08.038Z"
   },
   {
    "duration": 51,
    "start_time": "2024-02-09T04:14:17.152Z"
   },
   {
    "duration": 53,
    "start_time": "2024-02-09T04:20:36.403Z"
   },
   {
    "duration": 20,
    "start_time": "2024-02-09T04:29:48.206Z"
   },
   {
    "duration": 66,
    "start_time": "2024-02-09T04:29:55.291Z"
   },
   {
    "duration": 60,
    "start_time": "2024-02-09T04:30:08.052Z"
   },
   {
    "duration": 121,
    "start_time": "2024-02-09T04:32:41.064Z"
   },
   {
    "duration": 151,
    "start_time": "2024-02-09T04:32:42.831Z"
   },
   {
    "duration": 59,
    "start_time": "2024-02-09T04:33:24.538Z"
   },
   {
    "duration": 135,
    "start_time": "2024-02-09T04:34:55.878Z"
   },
   {
    "duration": 130,
    "start_time": "2024-02-09T04:35:03.445Z"
   },
   {
    "duration": 125,
    "start_time": "2024-02-09T04:35:20.085Z"
   },
   {
    "duration": 60,
    "start_time": "2024-02-09T04:35:41.967Z"
   },
   {
    "duration": 59,
    "start_time": "2024-02-09T04:35:46.447Z"
   },
   {
    "duration": 60,
    "start_time": "2024-02-09T04:36:56.632Z"
   },
   {
    "duration": 141,
    "start_time": "2024-02-09T04:37:08.115Z"
   },
   {
    "duration": 92,
    "start_time": "2024-02-09T04:38:20.753Z"
   },
   {
    "duration": 85,
    "start_time": "2024-02-09T04:38:47.612Z"
   },
   {
    "duration": 90,
    "start_time": "2024-02-09T04:38:55.307Z"
   },
   {
    "duration": 91,
    "start_time": "2024-02-09T04:39:05.217Z"
   },
   {
    "duration": 91,
    "start_time": "2024-02-09T04:40:14.278Z"
   },
   {
    "duration": 90,
    "start_time": "2024-02-09T04:41:53.387Z"
   },
   {
    "duration": 92,
    "start_time": "2024-02-09T04:41:59.513Z"
   },
   {
    "duration": 71,
    "start_time": "2024-02-09T04:42:24.475Z"
   },
   {
    "duration": 59,
    "start_time": "2024-02-09T04:42:31.979Z"
   },
   {
    "duration": 60,
    "start_time": "2024-02-09T04:42:37.173Z"
   },
   {
    "duration": 59,
    "start_time": "2024-02-09T04:42:46.434Z"
   },
   {
    "duration": 60,
    "start_time": "2024-02-09T04:43:06.826Z"
   },
   {
    "duration": 60,
    "start_time": "2024-02-09T04:43:19.167Z"
   },
   {
    "duration": 79,
    "start_time": "2024-02-09T04:43:25.130Z"
   },
   {
    "duration": 94,
    "start_time": "2024-02-09T04:43:27.593Z"
   },
   {
    "duration": 89,
    "start_time": "2024-02-09T04:44:36.460Z"
   },
   {
    "duration": 73,
    "start_time": "2024-02-09T04:45:17.016Z"
   },
   {
    "duration": 60,
    "start_time": "2024-02-09T04:45:58.214Z"
   },
   {
    "duration": 60,
    "start_time": "2024-02-09T04:46:04.494Z"
   },
   {
    "duration": 86,
    "start_time": "2024-02-09T04:46:08.727Z"
   },
   {
    "duration": 101,
    "start_time": "2024-02-09T04:47:31.337Z"
   },
   {
    "duration": 100,
    "start_time": "2024-02-09T04:47:39.675Z"
   },
   {
    "duration": 83,
    "start_time": "2024-02-09T04:51:49.983Z"
   },
   {
    "duration": 108,
    "start_time": "2024-02-09T04:52:01.263Z"
   },
   {
    "duration": 106,
    "start_time": "2024-02-09T04:54:59.835Z"
   },
   {
    "duration": 106,
    "start_time": "2024-02-09T04:58:25.996Z"
   },
   {
    "duration": 104,
    "start_time": "2024-02-09T04:58:27.842Z"
   },
   {
    "duration": 103,
    "start_time": "2024-02-09T04:59:16.170Z"
   },
   {
    "duration": 108,
    "start_time": "2024-02-09T04:59:22.503Z"
   },
   {
    "duration": 7,
    "start_time": "2024-02-09T05:00:07.416Z"
   },
   {
    "duration": 5,
    "start_time": "2024-02-09T05:00:19.313Z"
   },
   {
    "duration": 3,
    "start_time": "2024-02-09T05:01:12.059Z"
   },
   {
    "duration": 91,
    "start_time": "2024-02-09T05:01:41.108Z"
   },
   {
    "duration": 105,
    "start_time": "2024-02-09T05:02:35.296Z"
   },
   {
    "duration": 103,
    "start_time": "2024-02-09T05:03:46.927Z"
   },
   {
    "duration": 71,
    "start_time": "2024-02-09T05:04:05.750Z"
   },
   {
    "duration": 58,
    "start_time": "2024-02-09T05:04:11.615Z"
   },
   {
    "duration": 59,
    "start_time": "2024-02-09T05:04:31.494Z"
   },
   {
    "duration": 131,
    "start_time": "2024-02-09T05:04:57.855Z"
   },
   {
    "duration": 133,
    "start_time": "2024-02-09T05:05:06.775Z"
   },
   {
    "duration": 143,
    "start_time": "2024-02-09T05:05:11.554Z"
   },
   {
    "duration": 59,
    "start_time": "2024-02-09T05:05:39.511Z"
   },
   {
    "duration": 59,
    "start_time": "2024-02-09T05:06:01.954Z"
   },
   {
    "duration": 93,
    "start_time": "2024-02-09T05:06:08.788Z"
   },
   {
    "duration": 71,
    "start_time": "2024-02-09T05:06:26.282Z"
   },
   {
    "duration": 59,
    "start_time": "2024-02-09T05:06:40.746Z"
   },
   {
    "duration": 94,
    "start_time": "2024-02-09T05:06:44.849Z"
   },
   {
    "duration": 71,
    "start_time": "2024-02-09T05:07:46.927Z"
   },
   {
    "duration": 94,
    "start_time": "2024-02-09T05:08:14.814Z"
   },
   {
    "duration": 180,
    "start_time": "2024-02-09T05:08:19.075Z"
   },
   {
    "duration": 103,
    "start_time": "2024-02-09T05:08:21.614Z"
   },
   {
    "duration": 170,
    "start_time": "2024-02-09T05:09:54.974Z"
   },
   {
    "duration": 105,
    "start_time": "2024-02-09T05:09:57.861Z"
   },
   {
    "duration": 18,
    "start_time": "2024-02-09T05:16:08.238Z"
   },
   {
    "duration": 10,
    "start_time": "2024-02-09T05:16:14.357Z"
   },
   {
    "duration": 61,
    "start_time": "2024-02-09T05:16:32.277Z"
   },
   {
    "duration": 62,
    "start_time": "2024-02-09T05:17:04.791Z"
   },
   {
    "duration": 60,
    "start_time": "2024-02-09T05:18:38.689Z"
   },
   {
    "duration": 60,
    "start_time": "2024-02-09T05:18:40.810Z"
   },
   {
    "duration": 47,
    "start_time": "2024-02-09T05:18:57.971Z"
   },
   {
    "duration": 54,
    "start_time": "2024-02-09T05:20:43.428Z"
   },
   {
    "duration": 52,
    "start_time": "2024-02-09T05:21:27.669Z"
   },
   {
    "duration": 53,
    "start_time": "2024-02-09T05:21:31.458Z"
   },
   {
    "duration": 60,
    "start_time": "2024-02-09T06:15:54.260Z"
   },
   {
    "duration": 55,
    "start_time": "2024-02-09T06:16:03.554Z"
   },
   {
    "duration": 6372,
    "start_time": "2024-02-10T18:17:15.050Z"
   },
   {
    "duration": 36,
    "start_time": "2024-02-10T18:17:21.494Z"
   },
   {
    "duration": 11,
    "start_time": "2024-02-10T18:17:21.532Z"
   },
   {
    "duration": 12,
    "start_time": "2024-02-10T18:17:21.544Z"
   },
   {
    "duration": 13,
    "start_time": "2024-02-10T18:17:21.562Z"
   },
   {
    "duration": 13,
    "start_time": "2024-02-10T18:17:26.003Z"
   },
   {
    "duration": 11,
    "start_time": "2024-02-10T18:17:27.379Z"
   },
   {
    "duration": 58,
    "start_time": "2024-02-10T18:18:07.461Z"
   },
   {
    "duration": 39,
    "start_time": "2024-02-10T18:18:21.551Z"
   },
   {
    "duration": 14,
    "start_time": "2024-02-10T18:21:54.514Z"
   },
   {
    "duration": 14,
    "start_time": "2024-02-10T18:22:20.753Z"
   },
   {
    "duration": 15,
    "start_time": "2024-02-10T18:22:24.960Z"
   },
   {
    "duration": 14,
    "start_time": "2024-02-10T18:22:31.419Z"
   },
   {
    "duration": 4,
    "start_time": "2024-02-10T18:25:16.503Z"
   },
   {
    "duration": 36,
    "start_time": "2024-02-10T18:25:17.366Z"
   },
   {
    "duration": 40,
    "start_time": "2024-02-10T18:25:31.118Z"
   },
   {
    "duration": 11,
    "start_time": "2024-02-10T18:25:32.238Z"
   },
   {
    "duration": 14,
    "start_time": "2024-02-10T18:25:33.365Z"
   },
   {
    "duration": 74,
    "start_time": "2024-02-10T18:25:53.191Z"
   },
   {
    "duration": 11,
    "start_time": "2024-02-10T18:26:07.830Z"
   },
   {
    "duration": 19,
    "start_time": "2024-02-10T18:26:28.613Z"
   },
   {
    "duration": 17,
    "start_time": "2024-02-10T18:27:21.136Z"
   },
   {
    "duration": 16,
    "start_time": "2024-02-10T18:27:25.402Z"
   },
   {
    "duration": 11,
    "start_time": "2024-02-10T18:27:26.094Z"
   },
   {
    "duration": 19,
    "start_time": "2024-02-10T18:27:27.839Z"
   },
   {
    "duration": 16,
    "start_time": "2024-02-10T18:27:51.064Z"
   },
   {
    "duration": 16,
    "start_time": "2024-02-10T18:27:54.760Z"
   },
   {
    "duration": 14,
    "start_time": "2024-02-10T18:27:55.592Z"
   },
   {
    "duration": 15,
    "start_time": "2024-02-10T18:28:00.248Z"
   },
   {
    "duration": 15,
    "start_time": "2024-02-10T18:28:02.688Z"
   },
   {
    "duration": 11,
    "start_time": "2024-02-10T18:28:06.194Z"
   },
   {
    "duration": 11,
    "start_time": "2024-02-10T18:28:07.921Z"
   },
   {
    "duration": 16,
    "start_time": "2024-02-10T18:28:09.337Z"
   },
   {
    "duration": 29,
    "start_time": "2024-02-10T18:28:36.506Z"
   },
   {
    "duration": 29,
    "start_time": "2024-02-10T18:28:39.012Z"
   },
   {
    "duration": 72,
    "start_time": "2024-02-10T18:28:42.377Z"
   },
   {
    "duration": 27,
    "start_time": "2024-02-10T18:28:44.817Z"
   },
   {
    "duration": 27,
    "start_time": "2024-02-10T18:28:46.361Z"
   },
   {
    "duration": 27,
    "start_time": "2024-02-10T18:28:50.377Z"
   },
   {
    "duration": 29,
    "start_time": "2024-02-10T18:28:51.849Z"
   },
   {
    "duration": 13,
    "start_time": "2024-02-10T18:28:56.198Z"
   },
   {
    "duration": 15,
    "start_time": "2024-02-10T18:29:28.427Z"
   },
   {
    "duration": 19,
    "start_time": "2024-02-10T18:29:30.034Z"
   },
   {
    "duration": 13,
    "start_time": "2024-02-10T18:29:37.323Z"
   },
   {
    "duration": 16,
    "start_time": "2024-02-10T18:29:42.851Z"
   },
   {
    "duration": 12,
    "start_time": "2024-02-10T18:29:45.354Z"
   },
   {
    "duration": 15,
    "start_time": "2024-02-10T18:29:46.764Z"
   },
   {
    "duration": 15,
    "start_time": "2024-02-10T18:29:52.834Z"
   },
   {
    "duration": 12,
    "start_time": "2024-02-10T18:29:56.532Z"
   },
   {
    "duration": 15,
    "start_time": "2024-02-10T18:30:26.323Z"
   },
   {
    "duration": 16,
    "start_time": "2024-02-10T18:30:37.499Z"
   },
   {
    "duration": 13,
    "start_time": "2024-02-10T18:30:40.196Z"
   },
   {
    "duration": 63,
    "start_time": "2024-02-10T18:30:42.892Z"
   },
   {
    "duration": 29,
    "start_time": "2024-02-10T18:30:49.349Z"
   },
   {
    "duration": 27,
    "start_time": "2024-02-10T18:30:51.091Z"
   },
   {
    "duration": 16,
    "start_time": "2024-02-10T18:31:21.613Z"
   },
   {
    "duration": 21,
    "start_time": "2024-02-10T18:33:08.240Z"
   },
   {
    "duration": 20,
    "start_time": "2024-02-10T18:33:09.977Z"
   },
   {
    "duration": 21,
    "start_time": "2024-02-10T18:33:23.296Z"
   },
   {
    "duration": 20,
    "start_time": "2024-02-10T18:33:25.543Z"
   },
   {
    "duration": 20,
    "start_time": "2024-02-10T18:33:26.728Z"
   },
   {
    "duration": 20,
    "start_time": "2024-02-10T18:33:28.015Z"
   },
   {
    "duration": 17,
    "start_time": "2024-02-10T18:33:38.672Z"
   },
   {
    "duration": 17,
    "start_time": "2024-02-10T18:33:44.168Z"
   },
   {
    "duration": 68,
    "start_time": "2024-02-10T18:33:50.808Z"
   },
   {
    "duration": 19,
    "start_time": "2024-02-10T18:33:55.624Z"
   },
   {
    "duration": 20,
    "start_time": "2024-02-10T18:34:06.384Z"
   },
   {
    "duration": 17,
    "start_time": "2024-02-10T18:34:12.808Z"
   },
   {
    "duration": 30,
    "start_time": "2024-02-10T18:34:19.741Z"
   },
   {
    "duration": 21,
    "start_time": "2024-02-10T18:34:33.769Z"
   },
   {
    "duration": 33,
    "start_time": "2024-02-10T18:34:43.689Z"
   },
   {
    "duration": 23,
    "start_time": "2024-02-10T18:36:55.053Z"
   },
   {
    "duration": 27,
    "start_time": "2024-02-10T18:37:50.809Z"
   },
   {
    "duration": 24,
    "start_time": "2024-02-10T18:38:11.573Z"
   },
   {
    "duration": 18,
    "start_time": "2024-02-10T18:38:25.222Z"
   },
   {
    "duration": 29,
    "start_time": "2024-02-10T18:39:00.824Z"
   },
   {
    "duration": 22,
    "start_time": "2024-02-10T18:40:08.992Z"
   },
   {
    "duration": 22,
    "start_time": "2024-02-10T18:40:12.048Z"
   },
   {
    "duration": 20,
    "start_time": "2024-02-10T18:40:23.249Z"
   },
   {
    "duration": 19,
    "start_time": "2024-02-10T18:40:30.177Z"
   },
   {
    "duration": 22,
    "start_time": "2024-02-10T18:40:59.194Z"
   },
   {
    "duration": 15,
    "start_time": "2024-02-10T18:41:01.703Z"
   },
   {
    "duration": 18,
    "start_time": "2024-02-10T18:41:02.850Z"
   },
   {
    "duration": 11,
    "start_time": "2024-02-10T18:41:04.321Z"
   },
   {
    "duration": 19,
    "start_time": "2024-02-10T18:41:06.121Z"
   },
   {
    "duration": 18,
    "start_time": "2024-02-10T18:41:12.538Z"
   },
   {
    "duration": 31,
    "start_time": "2024-02-10T18:41:26.434Z"
   },
   {
    "duration": 32,
    "start_time": "2024-02-10T18:41:36.449Z"
   },
   {
    "duration": 26,
    "start_time": "2024-02-10T18:41:47.907Z"
   },
   {
    "duration": 15,
    "start_time": "2024-02-10T18:46:43.430Z"
   },
   {
    "duration": 12,
    "start_time": "2024-02-10T18:46:49.874Z"
   },
   {
    "duration": 22,
    "start_time": "2024-02-10T18:47:49.338Z"
   },
   {
    "duration": 11,
    "start_time": "2024-02-10T18:47:52.963Z"
   },
   {
    "duration": 84,
    "start_time": "2024-02-10T18:55:00.219Z"
   },
   {
    "duration": 13,
    "start_time": "2024-02-10T18:55:01.832Z"
   },
   {
    "duration": 14,
    "start_time": "2024-02-10T19:01:27.321Z"
   },
   {
    "duration": 18,
    "start_time": "2024-02-10T19:04:00.099Z"
   },
   {
    "duration": 14,
    "start_time": "2024-02-10T19:06:22.099Z"
   },
   {
    "duration": 14,
    "start_time": "2024-02-10T19:07:08.091Z"
   },
   {
    "duration": 13,
    "start_time": "2024-02-10T19:07:13.707Z"
   },
   {
    "duration": 18,
    "start_time": "2024-02-10T19:07:29.580Z"
   },
   {
    "duration": 18,
    "start_time": "2024-02-10T19:32:09.164Z"
   },
   {
    "duration": 25,
    "start_time": "2024-02-10T19:35:24.679Z"
   },
   {
    "duration": 14,
    "start_time": "2024-02-10T19:35:29.208Z"
   },
   {
    "duration": 45,
    "start_time": "2024-02-10T19:35:31.416Z"
   },
   {
    "duration": 21,
    "start_time": "2024-02-10T19:47:44.221Z"
   },
   {
    "duration": 21,
    "start_time": "2024-02-10T19:48:48.641Z"
   },
   {
    "duration": 46,
    "start_time": "2024-02-10T19:49:09.204Z"
   },
   {
    "duration": 60,
    "start_time": "2024-02-10T19:49:19.849Z"
   },
   {
    "duration": 50,
    "start_time": "2024-02-10T19:49:44.249Z"
   },
   {
    "duration": 21,
    "start_time": "2024-02-10T19:49:46.082Z"
   },
   {
    "duration": 25,
    "start_time": "2024-02-10T19:50:05.929Z"
   },
   {
    "duration": 19,
    "start_time": "2024-02-10T19:50:17.898Z"
   },
   {
    "duration": 23,
    "start_time": "2024-02-10T19:51:18.864Z"
   },
   {
    "duration": 3,
    "start_time": "2024-02-10T19:52:15.228Z"
   },
   {
    "duration": 2,
    "start_time": "2024-02-10T19:52:16.609Z"
   },
   {
    "duration": 2,
    "start_time": "2024-02-10T19:52:17.500Z"
   },
   {
    "duration": 2,
    "start_time": "2024-02-10T19:52:18.212Z"
   },
   {
    "duration": 3,
    "start_time": "2024-02-10T19:52:19.620Z"
   },
   {
    "duration": 2,
    "start_time": "2024-02-10T19:52:20.548Z"
   },
   {
    "duration": 2,
    "start_time": "2024-02-10T19:52:21.772Z"
   },
   {
    "duration": 21,
    "start_time": "2024-02-10T19:52:32.254Z"
   },
   {
    "duration": 44,
    "start_time": "2024-02-10T19:52:50.182Z"
   },
   {
    "duration": 21,
    "start_time": "2024-02-10T19:54:14.455Z"
   },
   {
    "duration": 22,
    "start_time": "2024-02-10T19:54:28.047Z"
   },
   {
    "duration": 21,
    "start_time": "2024-02-10T19:56:20.898Z"
   },
   {
    "duration": 47,
    "start_time": "2024-02-10T19:56:29.459Z"
   },
   {
    "duration": 42,
    "start_time": "2024-02-10T19:57:26.414Z"
   },
   {
    "duration": 29,
    "start_time": "2024-02-10T19:57:35.939Z"
   },
   {
    "duration": 18,
    "start_time": "2024-02-10T19:57:45.434Z"
   },
   {
    "duration": 26,
    "start_time": "2024-02-10T19:57:59.900Z"
   },
   {
    "duration": 27,
    "start_time": "2024-02-10T19:58:31.197Z"
   },
   {
    "duration": 16,
    "start_time": "2024-02-10T19:58:37.324Z"
   },
   {
    "duration": 26,
    "start_time": "2024-02-10T19:58:51.981Z"
   },
   {
    "duration": 26,
    "start_time": "2024-02-10T20:00:09.974Z"
   },
   {
    "duration": 26,
    "start_time": "2024-02-10T20:00:15.686Z"
   },
   {
    "duration": 26,
    "start_time": "2024-02-10T20:00:20.654Z"
   },
   {
    "duration": 27,
    "start_time": "2024-02-10T20:00:27.390Z"
   },
   {
    "duration": 26,
    "start_time": "2024-02-10T20:02:12.737Z"
   },
   {
    "duration": 21,
    "start_time": "2024-02-10T20:03:10.131Z"
   },
   {
    "duration": 17,
    "start_time": "2024-02-10T20:03:18.307Z"
   },
   {
    "duration": 18,
    "start_time": "2024-02-10T20:03:48.260Z"
   },
   {
    "duration": 15,
    "start_time": "2024-02-10T20:04:01.476Z"
   },
   {
    "duration": 27,
    "start_time": "2024-02-10T20:04:08.523Z"
   },
   {
    "duration": 26,
    "start_time": "2024-02-10T20:04:15.293Z"
   },
   {
    "duration": 27,
    "start_time": "2024-02-10T20:04:20.004Z"
   },
   {
    "duration": 22,
    "start_time": "2024-02-10T20:04:27.188Z"
   },
   {
    "duration": 20,
    "start_time": "2024-02-10T20:05:54.631Z"
   },
   {
    "duration": 21,
    "start_time": "2024-02-10T20:06:02.040Z"
   },
   {
    "duration": 43,
    "start_time": "2024-02-10T20:06:23.680Z"
   },
   {
    "duration": 48,
    "start_time": "2024-02-10T20:08:25.347Z"
   },
   {
    "duration": 48,
    "start_time": "2024-02-10T20:09:15.851Z"
   },
   {
    "duration": 48,
    "start_time": "2024-02-10T20:09:24.508Z"
   },
   {
    "duration": 19,
    "start_time": "2024-02-10T20:09:44.355Z"
   },
   {
    "duration": 20,
    "start_time": "2024-02-10T20:09:48.427Z"
   },
   {
    "duration": 20,
    "start_time": "2024-02-10T20:09:52.372Z"
   },
   {
    "duration": 20,
    "start_time": "2024-02-10T20:10:01.094Z"
   },
   {
    "duration": 19,
    "start_time": "2024-02-10T20:10:03.947Z"
   },
   {
    "duration": 20,
    "start_time": "2024-02-10T20:10:05.835Z"
   },
   {
    "duration": 23,
    "start_time": "2024-02-10T20:10:28.116Z"
   },
   {
    "duration": 20,
    "start_time": "2024-02-10T20:12:02.751Z"
   },
   {
    "duration": 21,
    "start_time": "2024-02-10T20:12:10.255Z"
   },
   {
    "duration": 23,
    "start_time": "2024-02-10T20:12:14.999Z"
   },
   {
    "duration": 20,
    "start_time": "2024-02-10T20:12:55.975Z"
   },
   {
    "duration": 19,
    "start_time": "2024-02-10T20:13:04.567Z"
   },
   {
    "duration": 19,
    "start_time": "2024-02-10T20:13:41.313Z"
   },
   {
    "duration": 19,
    "start_time": "2024-02-10T20:14:38.538Z"
   },
   {
    "duration": 19,
    "start_time": "2024-02-10T20:16:43.317Z"
   },
   {
    "duration": 31,
    "start_time": "2024-02-10T20:17:20.573Z"
   },
   {
    "duration": 22,
    "start_time": "2024-02-10T20:17:30.674Z"
   },
   {
    "duration": 27,
    "start_time": "2024-02-10T20:17:35.031Z"
   },
   {
    "duration": 18,
    "start_time": "2024-02-10T20:17:57.927Z"
   },
   {
    "duration": 52,
    "start_time": "2024-02-10T20:18:07.511Z"
   },
   {
    "duration": 19,
    "start_time": "2024-02-10T20:18:17.383Z"
   },
   {
    "duration": 15,
    "start_time": "2024-02-10T20:20:40.841Z"
   },
   {
    "duration": 15,
    "start_time": "2024-02-10T20:21:06.106Z"
   },
   {
    "duration": 21,
    "start_time": "2024-02-10T20:21:13.282Z"
   },
   {
    "duration": 21,
    "start_time": "2024-02-10T20:22:00.325Z"
   },
   {
    "duration": 14,
    "start_time": "2024-02-10T20:22:13.948Z"
   },
   {
    "duration": 17,
    "start_time": "2024-02-10T20:23:09.285Z"
   },
   {
    "duration": 17,
    "start_time": "2024-02-10T20:23:39.974Z"
   },
   {
    "duration": 18,
    "start_time": "2024-02-10T20:23:50.422Z"
   },
   {
    "duration": 18,
    "start_time": "2024-02-10T20:24:03.279Z"
   },
   {
    "duration": 14,
    "start_time": "2024-02-10T20:24:52.728Z"
   },
   {
    "duration": 18,
    "start_time": "2024-02-10T20:25:03.016Z"
   },
   {
    "duration": 18,
    "start_time": "2024-02-10T20:25:23.920Z"
   },
   {
    "duration": 19,
    "start_time": "2024-02-10T20:25:28.960Z"
   },
   {
    "duration": 15,
    "start_time": "2024-02-10T20:25:38.160Z"
   },
   {
    "duration": 23,
    "start_time": "2024-02-10T20:26:33.722Z"
   },
   {
    "duration": 18,
    "start_time": "2024-02-10T20:26:38.817Z"
   },
   {
    "duration": 19,
    "start_time": "2024-02-10T20:26:40.810Z"
   },
   {
    "duration": 16,
    "start_time": "2024-02-10T20:26:45.105Z"
   },
   {
    "duration": 16,
    "start_time": "2024-02-10T20:26:52.770Z"
   },
   {
    "duration": 16,
    "start_time": "2024-02-10T20:27:20.850Z"
   },
   {
    "duration": 55,
    "start_time": "2024-02-10T20:28:08.818Z"
   },
   {
    "duration": 60,
    "start_time": "2024-02-10T20:28:12.794Z"
   },
   {
    "duration": 22,
    "start_time": "2024-02-10T20:34:02.561Z"
   },
   {
    "duration": 23,
    "start_time": "2024-02-10T20:34:27.922Z"
   },
   {
    "duration": 22,
    "start_time": "2024-02-10T20:35:18.411Z"
   },
   {
    "duration": 21,
    "start_time": "2024-02-10T20:41:21.385Z"
   },
   {
    "duration": 26,
    "start_time": "2024-02-10T20:41:32.672Z"
   },
   {
    "duration": 27,
    "start_time": "2024-02-10T20:41:41.352Z"
   },
   {
    "duration": 26,
    "start_time": "2024-02-10T20:43:22.731Z"
   },
   {
    "duration": 17,
    "start_time": "2024-02-10T20:46:04.863Z"
   },
   {
    "duration": 22,
    "start_time": "2024-02-10T20:47:25.232Z"
   },
   {
    "duration": 20,
    "start_time": "2024-02-10T20:47:41.073Z"
   },
   {
    "duration": 23,
    "start_time": "2024-02-10T20:48:44.809Z"
   },
   {
    "duration": 20,
    "start_time": "2024-02-10T20:49:40.011Z"
   },
   {
    "duration": 20,
    "start_time": "2024-02-10T20:50:07.803Z"
   },
   {
    "duration": 43,
    "start_time": "2024-02-10T20:50:33.611Z"
   },
   {
    "duration": 49,
    "start_time": "2024-02-10T20:50:55.380Z"
   },
   {
    "duration": 46,
    "start_time": "2024-02-10T20:51:52.773Z"
   },
   {
    "duration": 21,
    "start_time": "2024-02-10T20:52:26.814Z"
   },
   {
    "duration": 20,
    "start_time": "2024-02-10T20:52:50.470Z"
   },
   {
    "duration": 17,
    "start_time": "2024-02-10T20:56:49.042Z"
   },
   {
    "duration": 18,
    "start_time": "2024-02-10T20:56:55.868Z"
   },
   {
    "duration": 16,
    "start_time": "2024-02-10T20:57:19.402Z"
   },
   {
    "duration": 21,
    "start_time": "2024-02-10T20:57:23.218Z"
   },
   {
    "duration": 17,
    "start_time": "2024-02-10T20:57:28.987Z"
   },
   {
    "duration": 17,
    "start_time": "2024-02-10T20:57:37.803Z"
   },
   {
    "duration": 18,
    "start_time": "2024-02-10T20:57:45.434Z"
   },
   {
    "duration": 16,
    "start_time": "2024-02-10T20:57:48.826Z"
   },
   {
    "duration": 17,
    "start_time": "2024-02-10T20:58:29.860Z"
   },
   {
    "duration": 17,
    "start_time": "2024-02-10T20:58:32.428Z"
   },
   {
    "duration": 17,
    "start_time": "2024-02-10T20:59:19.389Z"
   },
   {
    "duration": 17,
    "start_time": "2024-02-10T20:59:49.521Z"
   },
   {
    "duration": 22,
    "start_time": "2024-02-10T20:59:53.558Z"
   },
   {
    "duration": 21,
    "start_time": "2024-02-10T21:00:37.607Z"
   },
   {
    "duration": 21,
    "start_time": "2024-02-10T21:00:48.991Z"
   },
   {
    "duration": 41,
    "start_time": "2024-02-10T21:01:39.833Z"
   },
   {
    "duration": 42,
    "start_time": "2024-02-10T21:01:52.912Z"
   },
   {
    "duration": 15,
    "start_time": "2024-02-10T21:02:07.945Z"
   },
   {
    "duration": 43,
    "start_time": "2024-02-10T21:02:45.417Z"
   },
   {
    "duration": 21,
    "start_time": "2024-02-10T21:02:49.394Z"
   },
   {
    "duration": 26,
    "start_time": "2024-02-10T21:03:20.514Z"
   },
   {
    "duration": 20,
    "start_time": "2024-02-10T21:03:27.763Z"
   },
   {
    "duration": 22,
    "start_time": "2024-02-10T21:03:34.210Z"
   },
   {
    "duration": 46,
    "start_time": "2024-02-10T21:03:39.786Z"
   },
   {
    "duration": 0,
    "start_time": "2024-02-10T21:04:15.909Z"
   },
   {
    "duration": 0,
    "start_time": "2024-02-10T21:04:15.911Z"
   },
   {
    "duration": 20,
    "start_time": "2024-02-10T21:04:21.370Z"
   },
   {
    "duration": 17,
    "start_time": "2024-02-10T21:04:30.411Z"
   },
   {
    "duration": 17,
    "start_time": "2024-02-10T21:04:42.619Z"
   },
   {
    "duration": 19,
    "start_time": "2024-02-10T21:04:43.684Z"
   },
   {
    "duration": 19,
    "start_time": "2024-02-10T21:04:44.675Z"
   },
   {
    "duration": 18,
    "start_time": "2024-02-10T21:04:45.699Z"
   },
   {
    "duration": 17,
    "start_time": "2024-02-10T21:04:47.563Z"
   },
   {
    "duration": 17,
    "start_time": "2024-02-10T21:04:52.244Z"
   },
   {
    "duration": 18,
    "start_time": "2024-02-10T21:04:56.283Z"
   },
   {
    "duration": 17,
    "start_time": "2024-02-10T21:05:05.420Z"
   },
   {
    "duration": 16,
    "start_time": "2024-02-10T21:05:07.404Z"
   },
   {
    "duration": 17,
    "start_time": "2024-02-10T21:05:08.308Z"
   },
   {
    "duration": 17,
    "start_time": "2024-02-10T21:05:09.269Z"
   },
   {
    "duration": 17,
    "start_time": "2024-02-10T21:05:13.980Z"
   },
   {
    "duration": 16,
    "start_time": "2024-02-10T21:05:15.996Z"
   },
   {
    "duration": 17,
    "start_time": "2024-02-10T21:05:53.726Z"
   },
   {
    "duration": 18,
    "start_time": "2024-02-10T21:05:58.693Z"
   },
   {
    "duration": 17,
    "start_time": "2024-02-10T21:06:04.181Z"
   },
   {
    "duration": 21,
    "start_time": "2024-02-10T21:06:17.230Z"
   },
   {
    "duration": 16,
    "start_time": "2024-02-10T21:07:22.537Z"
   },
   {
    "duration": 20,
    "start_time": "2024-02-10T21:07:31.159Z"
   },
   {
    "duration": 23,
    "start_time": "2024-02-10T21:07:44.906Z"
   },
   {
    "duration": 17,
    "start_time": "2024-02-10T21:07:59.521Z"
   },
   {
    "duration": 19,
    "start_time": "2024-02-10T21:08:01.865Z"
   },
   {
    "duration": 19,
    "start_time": "2024-02-10T21:08:57.482Z"
   },
   {
    "duration": 18,
    "start_time": "2024-02-10T21:09:10.170Z"
   },
   {
    "duration": 25,
    "start_time": "2024-02-10T21:09:11.418Z"
   },
   {
    "duration": 18,
    "start_time": "2024-02-10T21:09:18.443Z"
   },
   {
    "duration": 22,
    "start_time": "2024-02-10T21:09:27.482Z"
   },
   {
    "duration": 21,
    "start_time": "2024-02-10T21:09:38.316Z"
   },
   {
    "duration": 17,
    "start_time": "2024-02-10T21:09:54.060Z"
   },
   {
    "duration": 15,
    "start_time": "2024-02-10T21:09:59.572Z"
   },
   {
    "duration": 59,
    "start_time": "2024-02-10T21:10:52.334Z"
   },
   {
    "duration": 22,
    "start_time": "2024-02-10T21:11:54.871Z"
   },
   {
    "duration": 19,
    "start_time": "2024-02-10T21:12:35.585Z"
   },
   {
    "duration": 19,
    "start_time": "2024-02-10T21:12:40.431Z"
   },
   {
    "duration": 15,
    "start_time": "2024-02-10T21:12:42.927Z"
   },
   {
    "duration": 25,
    "start_time": "2024-02-10T21:14:29.858Z"
   },
   {
    "duration": 19,
    "start_time": "2024-02-10T21:14:39.957Z"
   },
   {
    "duration": 18,
    "start_time": "2024-02-10T21:15:00.762Z"
   },
   {
    "duration": 17,
    "start_time": "2024-02-10T21:15:03.995Z"
   },
   {
    "duration": 29,
    "start_time": "2024-02-10T21:17:32.902Z"
   },
   {
    "duration": 31,
    "start_time": "2024-02-10T21:18:04.831Z"
   },
   {
    "duration": 33,
    "start_time": "2024-02-10T21:18:32.784Z"
   },
   {
    "duration": 48,
    "start_time": "2024-02-10T21:19:42.634Z"
   },
   {
    "duration": 95,
    "start_time": "2024-02-10T21:19:50.042Z"
   },
   {
    "duration": 26,
    "start_time": "2024-02-10T21:20:32.155Z"
   },
   {
    "duration": 26,
    "start_time": "2024-02-10T21:20:38.923Z"
   },
   {
    "duration": 4,
    "start_time": "2024-02-10T21:20:50.459Z"
   },
   {
    "duration": 45,
    "start_time": "2024-02-10T21:20:51.131Z"
   },
   {
    "duration": 46,
    "start_time": "2024-02-10T21:20:52.186Z"
   },
   {
    "duration": 12,
    "start_time": "2024-02-10T21:20:53.723Z"
   },
   {
    "duration": 18,
    "start_time": "2024-02-10T21:20:54.819Z"
   },
   {
    "duration": 11,
    "start_time": "2024-02-10T21:20:56.228Z"
   },
   {
    "duration": 18,
    "start_time": "2024-02-10T21:20:57.475Z"
   },
   {
    "duration": 12,
    "start_time": "2024-02-10T21:20:58.651Z"
   },
   {
    "duration": 33,
    "start_time": "2024-02-10T21:20:59.787Z"
   },
   {
    "duration": 13,
    "start_time": "2024-02-10T21:21:02.059Z"
   },
   {
    "duration": 27,
    "start_time": "2024-02-10T21:21:04.723Z"
   },
   {
    "duration": 26,
    "start_time": "2024-02-10T21:21:10.171Z"
   },
   {
    "duration": 12,
    "start_time": "2024-02-10T21:21:14.979Z"
   },
   {
    "duration": 35,
    "start_time": "2024-02-10T21:21:17.796Z"
   },
   {
    "duration": 14,
    "start_time": "2024-02-10T21:21:20.427Z"
   },
   {
    "duration": 36,
    "start_time": "2024-02-10T21:21:35.973Z"
   },
   {
    "duration": 13,
    "start_time": "2024-02-10T21:21:37.485Z"
   },
   {
    "duration": 16,
    "start_time": "2024-02-10T21:21:39.437Z"
   },
   {
    "duration": 14,
    "start_time": "2024-02-10T21:21:43.573Z"
   },
   {
    "duration": 15,
    "start_time": "2024-02-10T21:23:40.398Z"
   },
   {
    "duration": 17,
    "start_time": "2024-02-10T21:23:41.079Z"
   },
   {
    "duration": 14,
    "start_time": "2024-02-10T21:23:42.614Z"
   },
   {
    "duration": 39,
    "start_time": "2024-02-10T21:24:35.944Z"
   },
   {
    "duration": 38,
    "start_time": "2024-02-10T21:24:52.713Z"
   },
   {
    "duration": 41,
    "start_time": "2024-02-10T21:24:55.498Z"
   },
   {
    "duration": 22,
    "start_time": "2024-02-10T21:25:12.609Z"
   },
   {
    "duration": 21,
    "start_time": "2024-02-10T21:25:29.634Z"
   },
   {
    "duration": 20,
    "start_time": "2024-02-10T21:25:35.401Z"
   },
   {
    "duration": 8,
    "start_time": "2024-02-10T21:25:38.248Z"
   },
   {
    "duration": 18,
    "start_time": "2024-02-10T21:25:42.417Z"
   },
   {
    "duration": 13,
    "start_time": "2024-02-10T21:25:45.402Z"
   },
   {
    "duration": 92,
    "start_time": "2024-02-10T21:25:54.915Z"
   },
   {
    "duration": 32,
    "start_time": "2024-02-10T21:25:57.418Z"
   },
   {
    "duration": 35,
    "start_time": "2024-02-10T21:26:01.618Z"
   },
   {
    "duration": 35,
    "start_time": "2024-02-10T21:26:08.793Z"
   },
   {
    "duration": 18,
    "start_time": "2024-02-10T21:26:10.746Z"
   },
   {
    "duration": 22,
    "start_time": "2024-02-10T21:26:12.321Z"
   },
   {
    "duration": 11,
    "start_time": "2024-02-10T21:26:13.729Z"
   },
   {
    "duration": 12,
    "start_time": "2024-02-10T21:26:14.978Z"
   },
   {
    "duration": 18,
    "start_time": "2024-02-10T21:26:57.452Z"
   },
   {
    "duration": 8,
    "start_time": "2024-02-10T21:26:59.571Z"
   },
   {
    "duration": 18,
    "start_time": "2024-02-10T21:27:00.376Z"
   },
   {
    "duration": 13,
    "start_time": "2024-02-10T21:27:02.026Z"
   },
   {
    "duration": 33,
    "start_time": "2024-02-10T21:27:02.771Z"
   },
   {
    "duration": 13,
    "start_time": "2024-02-10T21:27:04.339Z"
   },
   {
    "duration": 26,
    "start_time": "2024-02-10T21:27:05.683Z"
   },
   {
    "duration": 8567,
    "start_time": "2024-02-11T12:46:05.633Z"
   },
   {
    "duration": 231,
    "start_time": "2024-02-11T12:46:14.202Z"
   },
   {
    "duration": 150,
    "start_time": "2024-02-11T12:46:14.436Z"
   },
   {
    "duration": 52,
    "start_time": "2024-02-11T12:46:14.588Z"
   },
   {
    "duration": 58,
    "start_time": "2024-02-11T12:46:14.642Z"
   },
   {
    "duration": 47,
    "start_time": "2024-02-11T12:46:14.702Z"
   },
   {
    "duration": 58,
    "start_time": "2024-02-11T12:46:14.750Z"
   },
   {
    "duration": 53,
    "start_time": "2024-02-11T12:46:14.810Z"
   },
   {
    "duration": 81,
    "start_time": "2024-02-11T12:46:14.864Z"
   },
   {
    "duration": 52,
    "start_time": "2024-02-11T12:46:14.947Z"
   },
   {
    "duration": 72,
    "start_time": "2024-02-11T12:46:15.001Z"
   },
   {
    "duration": 52,
    "start_time": "2024-02-11T12:46:15.074Z"
   },
   {
    "duration": 75,
    "start_time": "2024-02-11T12:46:15.128Z"
   },
   {
    "duration": 52,
    "start_time": "2024-02-11T12:46:15.205Z"
   },
   {
    "duration": 56,
    "start_time": "2024-02-11T12:46:15.258Z"
   },
   {
    "duration": 53,
    "start_time": "2024-02-11T12:46:15.315Z"
   },
   {
    "duration": 54,
    "start_time": "2024-02-11T16:44:20.218Z"
   },
   {
    "duration": 6,
    "start_time": "2024-02-11T16:44:23.076Z"
   },
   {
    "duration": 6582,
    "start_time": "2024-02-11T16:44:30.457Z"
   },
   {
    "duration": 57,
    "start_time": "2024-02-11T16:44:37.041Z"
   },
   {
    "duration": 46,
    "start_time": "2024-02-11T16:44:37.100Z"
   },
   {
    "duration": 15,
    "start_time": "2024-02-11T16:44:37.147Z"
   },
   {
    "duration": 19,
    "start_time": "2024-02-11T16:44:37.172Z"
   },
   {
    "duration": 7,
    "start_time": "2024-02-11T16:44:38.471Z"
   },
   {
    "duration": 18,
    "start_time": "2024-02-11T16:44:39.520Z"
   },
   {
    "duration": 12,
    "start_time": "2024-02-11T16:44:40.935Z"
   },
   {
    "duration": 32,
    "start_time": "2024-02-11T16:44:41.971Z"
   },
   {
    "duration": 12,
    "start_time": "2024-02-11T16:44:43.182Z"
   },
   {
    "duration": 26,
    "start_time": "2024-02-11T16:44:44.342Z"
   },
   {
    "duration": 11,
    "start_time": "2024-02-11T16:44:46.371Z"
   },
   {
    "duration": 34,
    "start_time": "2024-02-11T16:44:48.103Z"
   },
   {
    "duration": 40,
    "start_time": "2024-02-11T16:44:50.743Z"
   },
   {
    "duration": 33,
    "start_time": "2024-02-11T16:44:58.700Z"
   },
   {
    "duration": 43,
    "start_time": "2024-02-11T16:45:00.128Z"
   },
   {
    "duration": 34,
    "start_time": "2024-02-11T16:45:18.411Z"
   },
   {
    "duration": 53,
    "start_time": "2024-02-11T16:46:03.625Z"
   },
   {
    "duration": 33,
    "start_time": "2024-02-11T16:46:22.522Z"
   },
   {
    "duration": 55,
    "start_time": "2024-02-11T16:47:02.308Z"
   },
   {
    "duration": 11,
    "start_time": "2024-02-11T16:47:21.875Z"
   },
   {
    "duration": 13,
    "start_time": "2024-02-11T16:47:29.203Z"
   },
   {
    "duration": 17,
    "start_time": "2024-02-11T16:47:32.649Z"
   },
   {
    "duration": 32,
    "start_time": "2024-02-11T16:50:28.888Z"
   },
   {
    "duration": 28,
    "start_time": "2024-02-11T16:54:22.638Z"
   },
   {
    "duration": 38,
    "start_time": "2024-02-11T16:54:28.134Z"
   },
   {
    "duration": 75,
    "start_time": "2024-02-11T16:54:45.704Z"
   },
   {
    "duration": 20,
    "start_time": "2024-02-11T16:55:02.726Z"
   },
   {
    "duration": 49,
    "start_time": "2024-02-11T16:55:27.327Z"
   },
   {
    "duration": 98,
    "start_time": "2024-02-11T16:55:31.246Z"
   },
   {
    "duration": 33,
    "start_time": "2024-02-11T16:59:29.452Z"
   },
   {
    "duration": 20,
    "start_time": "2024-02-11T16:59:38.472Z"
   },
   {
    "duration": 22,
    "start_time": "2024-02-11T16:59:43.872Z"
   },
   {
    "duration": 19,
    "start_time": "2024-02-11T16:59:50.380Z"
   },
   {
    "duration": 52,
    "start_time": "2024-02-11T17:00:16.677Z"
   },
   {
    "duration": 48,
    "start_time": "2024-02-11T17:00:23.294Z"
   },
   {
    "duration": 19,
    "start_time": "2024-02-11T17:00:43.304Z"
   },
   {
    "duration": 28,
    "start_time": "2024-02-11T17:01:11.359Z"
   },
   {
    "duration": 20,
    "start_time": "2024-02-11T17:02:05.632Z"
   },
   {
    "duration": 18,
    "start_time": "2024-02-11T17:02:15.905Z"
   },
   {
    "duration": 15,
    "start_time": "2024-02-11T17:02:30.576Z"
   },
   {
    "duration": 17,
    "start_time": "2024-02-11T17:02:32.599Z"
   },
   {
    "duration": 15,
    "start_time": "2024-02-11T17:04:03.538Z"
   },
   {
    "duration": 16,
    "start_time": "2024-02-11T17:04:06.618Z"
   },
   {
    "duration": 40,
    "start_time": "2024-02-11T17:05:20.597Z"
   },
   {
    "duration": 34,
    "start_time": "2024-02-11T17:06:24.685Z"
   },
   {
    "duration": 45,
    "start_time": "2024-02-11T17:06:28.671Z"
   },
   {
    "duration": 49,
    "start_time": "2024-02-11T17:07:11.022Z"
   },
   {
    "duration": 35,
    "start_time": "2024-02-11T17:08:28.072Z"
   },
   {
    "duration": 40,
    "start_time": "2024-02-11T17:09:34.146Z"
   },
   {
    "duration": 38,
    "start_time": "2024-02-11T17:09:42.850Z"
   },
   {
    "duration": 34,
    "start_time": "2024-02-11T17:09:44.385Z"
   },
   {
    "duration": 36,
    "start_time": "2024-02-11T17:10:32.356Z"
   },
   {
    "duration": 40,
    "start_time": "2024-02-11T17:10:49.340Z"
   },
   {
    "duration": 46,
    "start_time": "2024-02-11T17:11:01.864Z"
   },
   {
    "duration": 39,
    "start_time": "2024-02-11T17:11:11.548Z"
   },
   {
    "duration": 33,
    "start_time": "2024-02-11T17:11:16.910Z"
   },
   {
    "duration": 42,
    "start_time": "2024-02-11T17:11:25.711Z"
   },
   {
    "duration": 42,
    "start_time": "2024-02-11T17:11:30.273Z"
   },
   {
    "duration": 56,
    "start_time": "2024-02-11T17:15:05.592Z"
   },
   {
    "duration": 56,
    "start_time": "2024-02-11T17:15:20.488Z"
   },
   {
    "duration": 2,
    "start_time": "2024-02-11T17:15:43.689Z"
   },
   {
    "duration": 2,
    "start_time": "2024-02-11T17:15:45.009Z"
   },
   {
    "duration": 4,
    "start_time": "2024-02-11T17:15:49.816Z"
   },
   {
    "duration": 3,
    "start_time": "2024-02-11T17:15:52.514Z"
   },
   {
    "duration": 3,
    "start_time": "2024-02-11T17:16:06.130Z"
   },
   {
    "duration": 2,
    "start_time": "2024-02-11T17:16:17.042Z"
   },
   {
    "duration": 2,
    "start_time": "2024-02-11T17:16:26.986Z"
   },
   {
    "duration": 2,
    "start_time": "2024-02-11T17:16:28.210Z"
   },
   {
    "duration": 4,
    "start_time": "2024-02-11T17:16:30.746Z"
   },
   {
    "duration": 8,
    "start_time": "2024-02-11T17:16:38.165Z"
   },
   {
    "duration": 3,
    "start_time": "2024-02-11T17:16:39.185Z"
   },
   {
    "duration": 36,
    "start_time": "2024-02-11T17:18:02.864Z"
   },
   {
    "duration": 39,
    "start_time": "2024-02-11T17:20:27.042Z"
   },
   {
    "duration": 39,
    "start_time": "2024-02-11T17:21:09.529Z"
   },
   {
    "duration": 39,
    "start_time": "2024-02-11T17:21:11.393Z"
   },
   {
    "duration": 41,
    "start_time": "2024-02-11T17:21:14.668Z"
   },
   {
    "duration": 40,
    "start_time": "2024-02-11T17:21:15.913Z"
   },
   {
    "duration": 39,
    "start_time": "2024-02-11T17:21:27.209Z"
   },
   {
    "duration": 2,
    "start_time": "2024-02-11T17:21:29.521Z"
   },
   {
    "duration": 40,
    "start_time": "2024-02-11T17:22:52.574Z"
   },
   {
    "duration": 41,
    "start_time": "2024-02-11T17:22:53.691Z"
   },
   {
    "duration": 45,
    "start_time": "2024-02-11T17:23:52.420Z"
   },
   {
    "duration": 28,
    "start_time": "2024-02-11T17:24:53.718Z"
   },
   {
    "duration": 32,
    "start_time": "2024-02-11T17:25:33.254Z"
   },
   {
    "duration": 45,
    "start_time": "2024-02-11T17:25:36.943Z"
   },
   {
    "duration": 44,
    "start_time": "2024-02-11T17:25:48.847Z"
   },
   {
    "duration": 37,
    "start_time": "2024-02-11T17:26:16.224Z"
   },
   {
    "duration": 20,
    "start_time": "2024-02-11T17:26:29.314Z"
   },
   {
    "duration": 33,
    "start_time": "2024-02-11T17:26:35.609Z"
   },
   {
    "duration": 37,
    "start_time": "2024-02-11T17:26:43.752Z"
   },
   {
    "duration": 34,
    "start_time": "2024-02-11T17:26:53.287Z"
   },
   {
    "duration": 34,
    "start_time": "2024-02-11T17:26:59.771Z"
   },
   {
    "duration": 35,
    "start_time": "2024-02-11T17:27:06.090Z"
   },
   {
    "duration": 20,
    "start_time": "2024-02-11T17:28:58.195Z"
   },
   {
    "duration": 19,
    "start_time": "2024-02-11T17:29:10.292Z"
   },
   {
    "duration": 46,
    "start_time": "2024-02-11T17:29:30.795Z"
   },
   {
    "duration": 76,
    "start_time": "2024-02-11T17:29:39.940Z"
   },
   {
    "duration": 35,
    "start_time": "2024-02-11T17:29:45.556Z"
   },
   {
    "duration": 35,
    "start_time": "2024-02-11T17:29:57.020Z"
   },
   {
    "duration": 43,
    "start_time": "2024-02-11T17:30:08.444Z"
   },
   {
    "duration": 33,
    "start_time": "2024-02-11T17:30:18.580Z"
   },
   {
    "duration": 44,
    "start_time": "2024-02-11T17:30:33.445Z"
   },
   {
    "duration": 30,
    "start_time": "2024-02-11T17:31:26.071Z"
   },
   {
    "duration": 37,
    "start_time": "2024-02-11T17:32:33.672Z"
   },
   {
    "duration": 35,
    "start_time": "2024-02-11T17:32:53.785Z"
   },
   {
    "duration": 20,
    "start_time": "2024-02-11T17:32:58.804Z"
   },
   {
    "duration": 35,
    "start_time": "2024-02-11T17:33:02.512Z"
   },
   {
    "duration": 35,
    "start_time": "2024-02-11T17:33:12.200Z"
   },
   {
    "duration": 41,
    "start_time": "2024-02-11T17:33:20.353Z"
   },
   {
    "duration": 20,
    "start_time": "2024-02-11T17:33:26.801Z"
   },
   {
    "duration": 22,
    "start_time": "2024-02-11T17:33:45.871Z"
   },
   {
    "duration": 48,
    "start_time": "2024-02-11T17:34:06.826Z"
   },
   {
    "duration": 45,
    "start_time": "2024-02-11T17:36:26.429Z"
   },
   {
    "duration": 39,
    "start_time": "2024-02-11T17:36:37.408Z"
   },
   {
    "duration": 39,
    "start_time": "2024-02-11T17:40:54.204Z"
   },
   {
    "duration": 40,
    "start_time": "2024-02-11T17:41:02.290Z"
   },
   {
    "duration": 45,
    "start_time": "2024-02-11T17:41:08.035Z"
   },
   {
    "duration": 41,
    "start_time": "2024-02-11T17:41:11.379Z"
   },
   {
    "duration": 42,
    "start_time": "2024-02-11T17:41:12.947Z"
   },
   {
    "duration": 40,
    "start_time": "2024-02-11T17:41:13.972Z"
   },
   {
    "duration": 58,
    "start_time": "2024-02-11T17:41:14.812Z"
   },
   {
    "duration": 40,
    "start_time": "2024-02-11T17:41:15.611Z"
   },
   {
    "duration": 40,
    "start_time": "2024-02-11T17:41:52.105Z"
   },
   {
    "duration": 41,
    "start_time": "2024-02-11T17:42:07.853Z"
   },
   {
    "duration": 42,
    "start_time": "2024-02-11T17:42:09.500Z"
   },
   {
    "duration": 49,
    "start_time": "2024-02-11T17:42:13.661Z"
   },
   {
    "duration": 33,
    "start_time": "2024-02-11T17:43:14.021Z"
   },
   {
    "duration": 39,
    "start_time": "2024-02-11T17:43:15.890Z"
   },
   {
    "duration": 32,
    "start_time": "2024-02-11T17:43:16.815Z"
   },
   {
    "duration": 43,
    "start_time": "2024-02-11T17:43:18.008Z"
   },
   {
    "duration": 34,
    "start_time": "2024-02-11T17:43:18.997Z"
   },
   {
    "duration": 33,
    "start_time": "2024-02-11T17:43:20.477Z"
   },
   {
    "duration": 38,
    "start_time": "2024-02-11T17:43:21.438Z"
   },
   {
    "duration": 33,
    "start_time": "2024-02-11T17:43:37.009Z"
   },
   {
    "duration": 42,
    "start_time": "2024-02-11T17:43:56.774Z"
   },
   {
    "duration": 41,
    "start_time": "2024-02-11T17:44:02.775Z"
   },
   {
    "duration": 47,
    "start_time": "2024-02-11T17:44:03.963Z"
   },
   {
    "duration": 50,
    "start_time": "2024-02-11T17:44:07.135Z"
   },
   {
    "duration": 21,
    "start_time": "2024-02-11T17:44:31.079Z"
   },
   {
    "duration": 39,
    "start_time": "2024-02-11T17:44:36.177Z"
   },
   {
    "duration": 46,
    "start_time": "2024-02-11T17:44:42.152Z"
   },
   {
    "duration": 38,
    "start_time": "2024-02-11T17:44:46.575Z"
   },
   {
    "duration": 37,
    "start_time": "2024-02-11T17:44:51.010Z"
   },
   {
    "duration": 36,
    "start_time": "2024-02-11T17:44:52.609Z"
   },
   {
    "duration": 35,
    "start_time": "2024-02-11T17:45:01.080Z"
   },
   {
    "duration": 35,
    "start_time": "2024-02-11T17:55:24.664Z"
   },
   {
    "duration": 20,
    "start_time": "2024-02-11T17:55:38.306Z"
   },
   {
    "duration": 20,
    "start_time": "2024-02-11T17:56:04.617Z"
   },
   {
    "duration": 44,
    "start_time": "2024-02-11T17:56:10.841Z"
   },
   {
    "duration": 33,
    "start_time": "2024-02-11T17:56:20.211Z"
   },
   {
    "duration": 47,
    "start_time": "2024-02-11T17:59:46.785Z"
   },
   {
    "duration": 20,
    "start_time": "2024-02-11T18:00:19.766Z"
   },
   {
    "duration": 20,
    "start_time": "2024-02-11T18:00:30.732Z"
   },
   {
    "duration": 34,
    "start_time": "2024-02-11T18:00:41.549Z"
   },
   {
    "duration": 37,
    "start_time": "2024-02-11T18:00:55.469Z"
   },
   {
    "duration": 65,
    "start_time": "2024-02-11T18:00:59.607Z"
   },
   {
    "duration": 34,
    "start_time": "2024-02-11T18:01:04.678Z"
   },
   {
    "duration": 42,
    "start_time": "2024-02-11T18:01:12.151Z"
   },
   {
    "duration": 34,
    "start_time": "2024-02-11T18:01:19.014Z"
   },
   {
    "duration": 42,
    "start_time": "2024-02-11T18:01:27.134Z"
   },
   {
    "duration": 43,
    "start_time": "2024-02-11T18:01:28.414Z"
   },
   {
    "duration": 21,
    "start_time": "2024-02-11T18:03:17.600Z"
   },
   {
    "duration": 44,
    "start_time": "2024-02-11T18:03:31.938Z"
   },
   {
    "duration": 40,
    "start_time": "2024-02-11T18:03:36.721Z"
   },
   {
    "duration": 21,
    "start_time": "2024-02-11T18:03:44.545Z"
   },
   {
    "duration": 42,
    "start_time": "2024-02-11T18:03:46.028Z"
   },
   {
    "duration": 42,
    "start_time": "2024-02-11T18:03:55.011Z"
   },
   {
    "duration": 43,
    "start_time": "2024-02-11T18:03:59.306Z"
   },
   {
    "duration": 42,
    "start_time": "2024-02-11T18:04:16.562Z"
   },
   {
    "duration": 41,
    "start_time": "2024-02-11T18:04:18.682Z"
   },
   {
    "duration": 39,
    "start_time": "2024-02-11T18:04:25.879Z"
   },
   {
    "duration": 34,
    "start_time": "2024-02-11T18:04:29.777Z"
   },
   {
    "duration": 20,
    "start_time": "2024-02-11T18:04:35.083Z"
   },
   {
    "duration": 19,
    "start_time": "2024-02-11T18:04:42.747Z"
   },
   {
    "duration": 20,
    "start_time": "2024-02-11T18:04:48.419Z"
   },
   {
    "duration": 34,
    "start_time": "2024-02-11T18:04:56.635Z"
   },
   {
    "duration": 34,
    "start_time": "2024-02-11T18:07:29.038Z"
   },
   {
    "duration": 36,
    "start_time": "2024-02-11T18:07:30.614Z"
   },
   {
    "duration": 23,
    "start_time": "2024-02-11T18:08:29.009Z"
   },
   {
    "duration": 34,
    "start_time": "2024-02-11T18:09:43.803Z"
   },
   {
    "duration": 38,
    "start_time": "2024-02-11T18:09:45.465Z"
   },
   {
    "duration": 106,
    "start_time": "2024-02-11T18:09:46.625Z"
   },
   {
    "duration": 34,
    "start_time": "2024-02-11T18:09:47.970Z"
   },
   {
    "duration": 33,
    "start_time": "2024-02-11T18:09:56.826Z"
   },
   {
    "duration": 21,
    "start_time": "2024-02-11T18:10:06.225Z"
   },
   {
    "duration": 21,
    "start_time": "2024-02-11T18:10:11.555Z"
   },
   {
    "duration": 33,
    "start_time": "2024-02-11T18:10:17.298Z"
   },
   {
    "duration": 6,
    "start_time": "2024-02-11T18:13:42.551Z"
   },
   {
    "duration": 46,
    "start_time": "2024-02-11T18:13:51.151Z"
   },
   {
    "duration": 42,
    "start_time": "2024-02-11T18:13:52.911Z"
   },
   {
    "duration": 36,
    "start_time": "2024-02-11T18:13:55.863Z"
   },
   {
    "duration": 35,
    "start_time": "2024-02-11T18:13:59.007Z"
   },
   {
    "duration": 21,
    "start_time": "2024-02-11T18:14:14.920Z"
   },
   {
    "duration": 33,
    "start_time": "2024-02-11T18:14:23.937Z"
   },
   {
    "duration": 64,
    "start_time": "2024-02-11T18:14:33.697Z"
   },
   {
    "duration": 35,
    "start_time": "2024-02-11T18:14:35.071Z"
   },
   {
    "duration": 34,
    "start_time": "2024-02-11T18:14:35.936Z"
   },
   {
    "duration": 33,
    "start_time": "2024-02-11T18:14:37.321Z"
   },
   {
    "duration": 38,
    "start_time": "2024-02-11T18:14:38.951Z"
   },
   {
    "duration": 36,
    "start_time": "2024-02-11T18:14:49.152Z"
   },
   {
    "duration": 40,
    "start_time": "2024-02-11T18:14:53.713Z"
   },
   {
    "duration": 35,
    "start_time": "2024-02-11T18:15:39.881Z"
   },
   {
    "duration": 34,
    "start_time": "2024-02-11T18:15:40.938Z"
   },
   {
    "duration": 34,
    "start_time": "2024-02-11T18:15:43.057Z"
   },
   {
    "duration": 33,
    "start_time": "2024-02-11T18:15:44.407Z"
   },
   {
    "duration": 34,
    "start_time": "2024-02-11T18:15:45.338Z"
   },
   {
    "duration": 34,
    "start_time": "2024-02-11T18:15:47.003Z"
   },
   {
    "duration": 34,
    "start_time": "2024-02-11T18:15:48.611Z"
   },
   {
    "duration": 33,
    "start_time": "2024-02-11T18:15:58.747Z"
   },
   {
    "duration": 41,
    "start_time": "2024-02-11T18:16:02.945Z"
   },
   {
    "duration": 40,
    "start_time": "2024-02-11T18:16:19.122Z"
   },
   {
    "duration": 41,
    "start_time": "2024-02-11T18:16:30.710Z"
   },
   {
    "duration": 52,
    "start_time": "2024-02-11T18:16:37.764Z"
   },
   {
    "duration": 42,
    "start_time": "2024-02-11T18:16:46.813Z"
   },
   {
    "duration": 43,
    "start_time": "2024-02-11T18:16:49.574Z"
   },
   {
    "duration": 39,
    "start_time": "2024-02-11T18:17:26.468Z"
   },
   {
    "duration": 39,
    "start_time": "2024-02-11T18:17:36.252Z"
   },
   {
    "duration": 41,
    "start_time": "2024-02-11T18:17:37.733Z"
   },
   {
    "duration": 52,
    "start_time": "2024-02-11T18:17:39.206Z"
   },
   {
    "duration": 37,
    "start_time": "2024-02-11T18:18:07.533Z"
   },
   {
    "duration": 37,
    "start_time": "2024-02-11T18:18:17.485Z"
   },
   {
    "duration": 35,
    "start_time": "2024-02-11T18:18:18.956Z"
   },
   {
    "duration": 38,
    "start_time": "2024-02-11T18:18:23.392Z"
   },
   {
    "duration": 38,
    "start_time": "2024-02-11T18:18:24.509Z"
   },
   {
    "duration": 35,
    "start_time": "2024-02-11T18:18:31.917Z"
   },
   {
    "duration": 37,
    "start_time": "2024-02-11T18:18:40.009Z"
   },
   {
    "duration": 35,
    "start_time": "2024-02-11T18:20:36.500Z"
   },
   {
    "duration": 37,
    "start_time": "2024-02-11T18:20:39.547Z"
   },
   {
    "duration": 37,
    "start_time": "2024-02-11T18:20:53.240Z"
   },
   {
    "duration": 36,
    "start_time": "2024-02-11T18:20:57.984Z"
   },
   {
    "duration": 33,
    "start_time": "2024-02-11T18:20:59.273Z"
   },
   {
    "duration": 41,
    "start_time": "2024-02-11T18:21:04.246Z"
   },
   {
    "duration": 39,
    "start_time": "2024-02-11T18:21:05.562Z"
   },
   {
    "duration": 49,
    "start_time": "2024-02-11T18:21:07.037Z"
   },
   {
    "duration": 22,
    "start_time": "2024-02-11T18:21:28.108Z"
   },
   {
    "duration": 19,
    "start_time": "2024-02-11T18:21:34.109Z"
   },
   {
    "duration": 52,
    "start_time": "2024-02-11T18:21:51.169Z"
   },
   {
    "duration": 66,
    "start_time": "2024-02-11T18:22:03.810Z"
   },
   {
    "duration": 39,
    "start_time": "2024-02-11T18:22:13.042Z"
   },
   {
    "duration": 41,
    "start_time": "2024-02-11T18:23:03.851Z"
   },
   {
    "duration": 40,
    "start_time": "2024-02-11T18:23:04.971Z"
   },
   {
    "duration": 42,
    "start_time": "2024-02-11T18:23:05.847Z"
   },
   {
    "duration": 41,
    "start_time": "2024-02-11T18:23:06.931Z"
   },
   {
    "duration": 42,
    "start_time": "2024-02-11T18:23:17.100Z"
   },
   {
    "duration": 38,
    "start_time": "2024-02-11T18:23:27.748Z"
   },
   {
    "duration": 40,
    "start_time": "2024-02-11T18:23:40.004Z"
   },
   {
    "duration": 52,
    "start_time": "2024-02-11T18:23:55.596Z"
   },
   {
    "duration": 48,
    "start_time": "2024-02-11T18:24:01.182Z"
   },
   {
    "duration": 42,
    "start_time": "2024-02-11T18:24:16.165Z"
   },
   {
    "duration": 21,
    "start_time": "2024-02-11T18:24:39.453Z"
   },
   {
    "duration": 52,
    "start_time": "2024-02-11T18:26:12.651Z"
   },
   {
    "duration": 58,
    "start_time": "2024-02-11T18:26:17.296Z"
   },
   {
    "duration": 55,
    "start_time": "2024-02-11T18:26:18.774Z"
   },
   {
    "duration": 54,
    "start_time": "2024-02-11T18:26:19.831Z"
   },
   {
    "duration": 59,
    "start_time": "2024-02-11T18:26:20.951Z"
   },
   {
    "duration": 32,
    "start_time": "2024-02-11T18:26:25.223Z"
   },
   {
    "duration": 52,
    "start_time": "2024-02-11T18:26:33.335Z"
   },
   {
    "duration": 57,
    "start_time": "2024-02-11T18:27:19.919Z"
   },
   {
    "duration": 41,
    "start_time": "2024-02-11T18:27:40.224Z"
   },
   {
    "duration": 38,
    "start_time": "2024-02-11T18:27:53.897Z"
   },
   {
    "duration": 32,
    "start_time": "2024-02-11T18:30:14.764Z"
   },
   {
    "duration": 20,
    "start_time": "2024-02-11T18:30:27.244Z"
   },
   {
    "duration": 20,
    "start_time": "2024-02-11T18:30:45.653Z"
   },
   {
    "duration": 85,
    "start_time": "2024-02-11T18:30:51.781Z"
   },
   {
    "duration": 20,
    "start_time": "2024-02-11T18:31:07.428Z"
   },
   {
    "duration": 50,
    "start_time": "2024-02-11T18:31:10.380Z"
   },
   {
    "duration": 84,
    "start_time": "2024-02-11T18:31:15.871Z"
   },
   {
    "duration": 54,
    "start_time": "2024-02-11T18:31:40.694Z"
   },
   {
    "duration": 53,
    "start_time": "2024-02-11T18:31:45.317Z"
   },
   {
    "duration": 52,
    "start_time": "2024-02-11T18:31:46.725Z"
   },
   {
    "duration": 52,
    "start_time": "2024-02-11T18:31:57.244Z"
   },
   {
    "duration": 20,
    "start_time": "2024-02-11T18:32:04.599Z"
   },
   {
    "duration": 21,
    "start_time": "2024-02-11T18:32:21.502Z"
   },
   {
    "duration": 34,
    "start_time": "2024-02-11T18:32:33.790Z"
   },
   {
    "duration": 33,
    "start_time": "2024-02-11T18:32:57.358Z"
   },
   {
    "duration": 33,
    "start_time": "2024-02-11T18:33:03.295Z"
   },
   {
    "duration": 34,
    "start_time": "2024-02-11T18:33:11.791Z"
   },
   {
    "duration": 37,
    "start_time": "2024-02-11T18:33:17.119Z"
   },
   {
    "duration": 40,
    "start_time": "2024-02-11T18:33:19.975Z"
   },
   {
    "duration": 38,
    "start_time": "2024-02-11T18:33:26.679Z"
   },
   {
    "duration": 44,
    "start_time": "2024-02-11T18:39:55.202Z"
   },
   {
    "duration": 39,
    "start_time": "2024-02-11T18:42:44.501Z"
   },
   {
    "duration": 39,
    "start_time": "2024-02-11T18:42:46.205Z"
   },
   {
    "duration": 43,
    "start_time": "2024-02-11T18:42:47.419Z"
   },
   {
    "duration": 41,
    "start_time": "2024-02-11T18:42:55.026Z"
   },
   {
    "duration": 41,
    "start_time": "2024-02-11T18:45:14.905Z"
   },
   {
    "duration": 32,
    "start_time": "2024-02-11T18:45:21.872Z"
   },
   {
    "duration": 32,
    "start_time": "2024-02-11T18:45:23.823Z"
   },
   {
    "duration": 33,
    "start_time": "2024-02-11T18:45:29.439Z"
   },
   {
    "duration": 40,
    "start_time": "2024-02-11T18:45:34.255Z"
   },
   {
    "duration": 35,
    "start_time": "2024-02-11T18:45:39.575Z"
   },
   {
    "duration": 21,
    "start_time": "2024-02-11T18:45:48.719Z"
   },
   {
    "duration": 40,
    "start_time": "2024-02-11T18:45:52.640Z"
   },
   {
    "duration": 66,
    "start_time": "2024-02-11T18:45:57.414Z"
   },
   {
    "duration": 35,
    "start_time": "2024-02-11T18:47:11.500Z"
   },
   {
    "duration": 35,
    "start_time": "2024-02-11T18:47:19.425Z"
   },
   {
    "duration": 34,
    "start_time": "2024-02-11T18:47:26.968Z"
   },
   {
    "duration": 36,
    "start_time": "2024-02-11T18:47:31.490Z"
   },
   {
    "duration": 34,
    "start_time": "2024-02-11T18:47:35.113Z"
   },
   {
    "duration": 37,
    "start_time": "2024-02-11T18:47:45.282Z"
   },
   {
    "duration": 40,
    "start_time": "2024-02-11T18:47:53.145Z"
   },
   {
    "duration": 39,
    "start_time": "2024-02-11T18:49:02.315Z"
   },
   {
    "duration": 26,
    "start_time": "2024-02-11T18:52:20.166Z"
   },
   {
    "duration": 41,
    "start_time": "2024-02-11T18:56:09.836Z"
   },
   {
    "duration": 21,
    "start_time": "2024-02-11T18:57:08.862Z"
   },
   {
    "duration": 20,
    "start_time": "2024-02-11T18:57:19.231Z"
   },
   {
    "duration": 39,
    "start_time": "2024-02-11T18:57:23.526Z"
   },
   {
    "duration": 51,
    "start_time": "2024-02-11T18:57:26.382Z"
   },
   {
    "duration": 19,
    "start_time": "2024-02-11T18:57:58.655Z"
   },
   {
    "duration": 20,
    "start_time": "2024-02-11T18:58:15.976Z"
   },
   {
    "duration": 75,
    "start_time": "2024-02-11T18:58:21.015Z"
   },
   {
    "duration": 21,
    "start_time": "2024-02-11T18:58:35.287Z"
   },
   {
    "duration": 20,
    "start_time": "2024-02-11T18:58:41.224Z"
   },
   {
    "duration": 43,
    "start_time": "2024-02-11T18:58:54.825Z"
   },
   {
    "duration": 43,
    "start_time": "2024-02-11T18:59:27.161Z"
   },
   {
    "duration": 44,
    "start_time": "2024-02-11T19:00:29.235Z"
   },
   {
    "duration": 40,
    "start_time": "2024-02-11T19:00:37.123Z"
   },
   {
    "duration": 40,
    "start_time": "2024-02-11T19:01:00.763Z"
   },
   {
    "duration": 34,
    "start_time": "2024-02-11T19:01:22.452Z"
   },
   {
    "duration": 34,
    "start_time": "2024-02-11T19:01:25.503Z"
   },
   {
    "duration": 35,
    "start_time": "2024-02-11T19:02:13.685Z"
   },
   {
    "duration": 27,
    "start_time": "2024-02-11T19:02:32.516Z"
   },
   {
    "duration": 27,
    "start_time": "2024-02-11T19:02:47.405Z"
   },
   {
    "duration": 32,
    "start_time": "2024-02-11T19:03:12.368Z"
   },
   {
    "duration": 32,
    "start_time": "2024-02-11T19:03:20.677Z"
   },
   {
    "duration": 32,
    "start_time": "2024-02-11T19:03:26.199Z"
   },
   {
    "duration": 19,
    "start_time": "2024-02-11T19:03:44.803Z"
   },
   {
    "duration": 32,
    "start_time": "2024-02-11T19:03:47.015Z"
   },
   {
    "duration": 33,
    "start_time": "2024-02-11T19:04:04.823Z"
   },
   {
    "duration": 32,
    "start_time": "2024-02-11T19:04:08.446Z"
   },
   {
    "duration": 32,
    "start_time": "2024-02-11T19:04:23.263Z"
   },
   {
    "duration": 7,
    "start_time": "2024-02-11T19:04:43.735Z"
   },
   {
    "duration": 6,
    "start_time": "2024-02-11T19:04:58.269Z"
   },
   {
    "duration": 6,
    "start_time": "2024-02-11T19:05:01.539Z"
   },
   {
    "duration": 33,
    "start_time": "2024-02-11T19:05:07.826Z"
   },
   {
    "duration": 22,
    "start_time": "2024-02-11T19:14:39.620Z"
   },
   {
    "duration": 20,
    "start_time": "2024-02-11T19:17:15.953Z"
   },
   {
    "duration": 48,
    "start_time": "2024-02-11T19:17:29.362Z"
   },
   {
    "duration": 45,
    "start_time": "2024-02-11T19:17:35.137Z"
   },
   {
    "duration": 43,
    "start_time": "2024-02-11T19:18:09.532Z"
   },
   {
    "duration": 20,
    "start_time": "2024-02-11T19:18:24.571Z"
   },
   {
    "duration": 21,
    "start_time": "2024-02-11T19:19:02.107Z"
   },
   {
    "duration": 19,
    "start_time": "2024-02-11T19:19:09.004Z"
   },
   {
    "duration": 19,
    "start_time": "2024-02-11T19:19:16.733Z"
   },
   {
    "duration": 50,
    "start_time": "2024-02-11T19:20:05.363Z"
   },
   {
    "duration": 0,
    "start_time": "2024-02-11T19:21:08.932Z"
   },
   {
    "duration": 6574,
    "start_time": "2024-02-11T19:21:14.726Z"
   },
   {
    "duration": 50,
    "start_time": "2024-02-11T19:21:21.302Z"
   },
   {
    "duration": 48,
    "start_time": "2024-02-11T19:21:21.353Z"
   },
   {
    "duration": 11,
    "start_time": "2024-02-11T19:21:21.403Z"
   },
   {
    "duration": 21,
    "start_time": "2024-02-11T19:21:21.415Z"
   },
   {
    "duration": 8,
    "start_time": "2024-02-11T19:21:21.437Z"
   },
   {
    "duration": 30,
    "start_time": "2024-02-11T19:21:21.446Z"
   },
   {
    "duration": 14,
    "start_time": "2024-02-11T19:21:21.478Z"
   },
   {
    "duration": 43,
    "start_time": "2024-02-11T19:21:21.493Z"
   },
   {
    "duration": 11,
    "start_time": "2024-02-11T19:21:21.538Z"
   },
   {
    "duration": 25,
    "start_time": "2024-02-11T19:21:21.550Z"
   },
   {
    "duration": 27,
    "start_time": "2024-02-11T19:21:21.576Z"
   },
   {
    "duration": 52,
    "start_time": "2024-02-11T19:21:21.604Z"
   },
   {
    "duration": 79,
    "start_time": "2024-02-11T19:21:21.657Z"
   },
   {
    "duration": 0,
    "start_time": "2024-02-11T19:21:21.737Z"
   },
   {
    "duration": 0,
    "start_time": "2024-02-11T19:21:21.738Z"
   },
   {
    "duration": 0,
    "start_time": "2024-02-11T19:21:21.739Z"
   },
   {
    "duration": 19,
    "start_time": "2024-02-11T19:22:02.779Z"
   },
   {
    "duration": 46,
    "start_time": "2024-02-11T19:22:24.627Z"
   },
   {
    "duration": 47,
    "start_time": "2024-02-11T19:22:53.556Z"
   },
   {
    "duration": 134,
    "start_time": "2024-02-11T19:25:17.632Z"
   },
   {
    "duration": 30,
    "start_time": "2024-02-11T19:25:40.664Z"
   },
   {
    "duration": 35,
    "start_time": "2024-02-11T19:25:51.123Z"
   },
   {
    "duration": 35,
    "start_time": "2024-02-11T19:33:30.995Z"
   },
   {
    "duration": 21,
    "start_time": "2024-02-11T19:34:22.283Z"
   },
   {
    "duration": 19,
    "start_time": "2024-02-11T19:34:32.806Z"
   },
   {
    "duration": 35,
    "start_time": "2024-02-11T19:34:50.573Z"
   },
   {
    "duration": 35,
    "start_time": "2024-02-11T19:35:13.245Z"
   },
   {
    "duration": 34,
    "start_time": "2024-02-11T19:35:25.662Z"
   },
   {
    "duration": 20,
    "start_time": "2024-02-11T19:35:30.085Z"
   },
   {
    "duration": 47,
    "start_time": "2024-02-11T19:35:37.366Z"
   },
   {
    "duration": 41,
    "start_time": "2024-02-11T19:35:40.189Z"
   },
   {
    "duration": 20,
    "start_time": "2024-02-11T19:35:49.975Z"
   },
   {
    "duration": 38,
    "start_time": "2024-02-11T19:36:00.422Z"
   },
   {
    "duration": 28,
    "start_time": "2024-02-11T19:36:28.422Z"
   },
   {
    "duration": 37,
    "start_time": "2024-02-11T19:37:33.761Z"
   },
   {
    "duration": 33,
    "start_time": "2024-02-11T19:37:35.977Z"
   },
   {
    "duration": 39,
    "start_time": "2024-02-11T19:37:55.385Z"
   },
   {
    "duration": 35,
    "start_time": "2024-02-11T19:38:06.225Z"
   },
   {
    "duration": 34,
    "start_time": "2024-02-11T19:38:07.577Z"
   },
   {
    "duration": 34,
    "start_time": "2024-02-11T19:38:08.602Z"
   },
   {
    "duration": 33,
    "start_time": "2024-02-11T19:38:09.465Z"
   },
   {
    "duration": 46,
    "start_time": "2024-02-11T19:38:28.426Z"
   },
   {
    "duration": 33,
    "start_time": "2024-02-11T19:38:34.618Z"
   },
   {
    "duration": 34,
    "start_time": "2024-02-11T19:39:21.227Z"
   },
   {
    "duration": 34,
    "start_time": "2024-02-11T19:39:24.692Z"
   },
   {
    "duration": 35,
    "start_time": "2024-02-11T19:39:40.668Z"
   },
   {
    "duration": 36,
    "start_time": "2024-02-11T19:39:43.044Z"
   },
   {
    "duration": 33,
    "start_time": "2024-02-11T19:39:52.052Z"
   },
   {
    "duration": 33,
    "start_time": "2024-02-11T19:42:07.279Z"
   },
   {
    "duration": 36,
    "start_time": "2024-02-11T19:43:01.802Z"
   },
   {
    "duration": 30,
    "start_time": "2024-02-11T19:43:03.247Z"
   },
   {
    "duration": 33,
    "start_time": "2024-02-11T19:43:14.632Z"
   },
   {
    "duration": 29,
    "start_time": "2024-02-11T19:45:12.203Z"
   },
   {
    "duration": 31,
    "start_time": "2024-02-11T19:45:20.731Z"
   },
   {
    "duration": 110,
    "start_time": "2024-02-11T19:51:34.388Z"
   },
   {
    "duration": 90,
    "start_time": "2024-02-11T19:51:47.861Z"
   },
   {
    "duration": 91,
    "start_time": "2024-02-11T19:51:57.925Z"
   },
   {
    "duration": 99,
    "start_time": "2024-02-11T19:54:00.088Z"
   },
   {
    "duration": 91,
    "start_time": "2024-02-11T19:54:11.615Z"
   },
   {
    "duration": 97,
    "start_time": "2024-02-11T19:54:18.884Z"
   },
   {
    "duration": 94,
    "start_time": "2024-02-11T19:54:29.585Z"
   },
   {
    "duration": 98,
    "start_time": "2024-02-11T19:54:47.993Z"
   },
   {
    "duration": 94,
    "start_time": "2024-02-11T19:55:31.891Z"
   },
   {
    "duration": 98,
    "start_time": "2024-02-11T19:56:08.091Z"
   },
   {
    "duration": 94,
    "start_time": "2024-02-11T19:56:37.340Z"
   },
   {
    "duration": 88,
    "start_time": "2024-02-11T19:56:45.187Z"
   },
   {
    "duration": 93,
    "start_time": "2024-02-11T19:57:04.876Z"
   },
   {
    "duration": 92,
    "start_time": "2024-02-11T19:57:18.511Z"
   },
   {
    "duration": 96,
    "start_time": "2024-02-11T19:57:23.573Z"
   },
   {
    "duration": 106,
    "start_time": "2024-02-11T19:57:27.421Z"
   },
   {
    "duration": 23,
    "start_time": "2024-02-11T19:57:46.278Z"
   },
   {
    "duration": 23,
    "start_time": "2024-02-11T19:58:04.396Z"
   },
   {
    "duration": 24,
    "start_time": "2024-02-11T19:58:35.982Z"
   },
   {
    "duration": 24,
    "start_time": "2024-02-11T19:58:44.669Z"
   },
   {
    "duration": 23,
    "start_time": "2024-02-11T19:58:50.414Z"
   },
   {
    "duration": 24,
    "start_time": "2024-02-11T19:59:06.638Z"
   },
   {
    "duration": 24,
    "start_time": "2024-02-11T19:59:15.582Z"
   },
   {
    "duration": 32,
    "start_time": "2024-02-11T19:59:23.801Z"
   },
   {
    "duration": 25,
    "start_time": "2024-02-11T19:59:33.031Z"
   },
   {
    "duration": 25,
    "start_time": "2024-02-11T19:59:40.919Z"
   },
   {
    "duration": 25,
    "start_time": "2024-02-11T19:59:51.784Z"
   },
   {
    "duration": 24,
    "start_time": "2024-02-11T20:00:05.832Z"
   },
   {
    "duration": 24,
    "start_time": "2024-02-11T20:00:22.411Z"
   },
   {
    "duration": 94,
    "start_time": "2024-02-11T20:00:45.432Z"
   },
   {
    "duration": 23,
    "start_time": "2024-02-11T20:00:49.284Z"
   },
   {
    "duration": 25,
    "start_time": "2024-02-11T20:01:11.793Z"
   },
   {
    "duration": 23,
    "start_time": "2024-02-11T20:01:13.907Z"
   },
   {
    "duration": 24,
    "start_time": "2024-02-11T20:01:16.314Z"
   },
   {
    "duration": 26,
    "start_time": "2024-02-11T20:01:36.545Z"
   },
   {
    "duration": 25,
    "start_time": "2024-02-11T20:01:44.178Z"
   },
   {
    "duration": 25,
    "start_time": "2024-02-11T20:02:16.922Z"
   },
   {
    "duration": 25,
    "start_time": "2024-02-11T20:02:33.659Z"
   },
   {
    "duration": 95,
    "start_time": "2024-02-11T20:02:56.427Z"
   },
   {
    "duration": 24,
    "start_time": "2024-02-11T20:03:01.244Z"
   },
   {
    "duration": 25,
    "start_time": "2024-02-11T20:03:10.603Z"
   },
   {
    "duration": 24,
    "start_time": "2024-02-11T20:03:23.460Z"
   },
   {
    "duration": 22,
    "start_time": "2024-02-11T20:03:27.180Z"
   },
   {
    "duration": 24,
    "start_time": "2024-02-11T20:03:30.356Z"
   },
   {
    "duration": 24,
    "start_time": "2024-02-11T20:03:38.213Z"
   },
   {
    "duration": 24,
    "start_time": "2024-02-11T20:03:59.852Z"
   },
   {
    "duration": 97,
    "start_time": "2024-02-11T20:04:09.150Z"
   },
   {
    "duration": 25,
    "start_time": "2024-02-11T20:04:13.573Z"
   },
   {
    "duration": 25,
    "start_time": "2024-02-11T20:04:38.334Z"
   },
   {
    "duration": 24,
    "start_time": "2024-02-11T20:04:40.608Z"
   },
   {
    "duration": 23,
    "start_time": "2024-02-11T20:04:41.382Z"
   },
   {
    "duration": 23,
    "start_time": "2024-02-11T20:04:42.118Z"
   },
   {
    "duration": 95,
    "start_time": "2024-02-11T20:04:51.512Z"
   },
   {
    "duration": 105,
    "start_time": "2024-02-11T20:05:03.214Z"
   },
   {
    "duration": 92,
    "start_time": "2024-02-11T20:05:09.823Z"
   },
   {
    "duration": 24,
    "start_time": "2024-02-11T20:05:13.800Z"
   },
   {
    "duration": 24,
    "start_time": "2024-02-11T20:05:49.551Z"
   },
   {
    "duration": 24,
    "start_time": "2024-02-11T20:06:19.212Z"
   },
   {
    "duration": 24,
    "start_time": "2024-02-11T20:06:20.656Z"
   },
   {
    "duration": 25,
    "start_time": "2024-02-11T20:06:28.024Z"
   },
   {
    "duration": 24,
    "start_time": "2024-02-11T20:06:31.872Z"
   },
   {
    "duration": 25,
    "start_time": "2024-02-11T20:06:34.344Z"
   },
   {
    "duration": 25,
    "start_time": "2024-02-11T20:06:35.752Z"
   },
   {
    "duration": 24,
    "start_time": "2024-02-11T20:06:43.992Z"
   },
   {
    "duration": 25,
    "start_time": "2024-02-11T20:06:49.728Z"
   },
   {
    "duration": 29,
    "start_time": "2024-02-11T20:07:02.017Z"
   },
   {
    "duration": 27,
    "start_time": "2024-02-11T20:07:06.441Z"
   },
   {
    "duration": 24,
    "start_time": "2024-02-11T20:07:29.842Z"
   },
   {
    "duration": 112,
    "start_time": "2024-02-11T20:07:50.011Z"
   },
   {
    "duration": 15,
    "start_time": "2024-02-11T20:08:02.314Z"
   },
   {
    "duration": 90,
    "start_time": "2024-02-11T20:08:19.371Z"
   },
   {
    "duration": 15,
    "start_time": "2024-02-11T20:08:26.971Z"
   },
   {
    "duration": 13,
    "start_time": "2024-02-11T20:08:33.226Z"
   },
   {
    "duration": 61,
    "start_time": "2024-02-11T20:09:16.635Z"
   },
   {
    "duration": 2,
    "start_time": "2024-02-11T20:09:22.436Z"
   },
   {
    "duration": 2,
    "start_time": "2024-02-11T20:09:23.915Z"
   },
   {
    "duration": 3,
    "start_time": "2024-02-11T20:09:30.291Z"
   },
   {
    "duration": 15,
    "start_time": "2024-02-11T20:10:06.164Z"
   },
   {
    "duration": 14,
    "start_time": "2024-02-11T20:10:34.478Z"
   },
   {
    "duration": 16,
    "start_time": "2024-02-11T20:11:16.895Z"
   },
   {
    "duration": 20,
    "start_time": "2024-02-11T20:12:07.319Z"
   },
   {
    "duration": 17,
    "start_time": "2024-02-11T20:12:15.271Z"
   },
   {
    "duration": 18,
    "start_time": "2024-02-11T20:12:21.584Z"
   },
   {
    "duration": 15,
    "start_time": "2024-02-11T20:12:38.351Z"
   },
   {
    "duration": 15,
    "start_time": "2024-02-11T20:12:52.969Z"
   },
   {
    "duration": 17,
    "start_time": "2024-02-11T20:13:06.017Z"
   },
   {
    "duration": 18,
    "start_time": "2024-02-11T20:13:22.945Z"
   },
   {
    "duration": 20,
    "start_time": "2024-02-11T20:13:58.561Z"
   },
   {
    "duration": 16,
    "start_time": "2024-02-11T20:14:06.090Z"
   },
   {
    "duration": 66,
    "start_time": "2024-02-11T20:15:45.956Z"
   },
   {
    "duration": 14,
    "start_time": "2024-02-11T20:15:50.956Z"
   },
   {
    "duration": 73,
    "start_time": "2024-02-11T20:15:55.636Z"
   },
   {
    "duration": 19,
    "start_time": "2024-02-11T20:16:50.391Z"
   },
   {
    "duration": 20,
    "start_time": "2024-02-11T20:17:12.798Z"
   },
   {
    "duration": 14,
    "start_time": "2024-02-11T20:17:23.438Z"
   },
   {
    "duration": 20,
    "start_time": "2024-02-11T20:19:15.121Z"
   },
   {
    "duration": 25,
    "start_time": "2024-02-11T20:19:30.441Z"
   },
   {
    "duration": 23,
    "start_time": "2024-02-11T20:19:36.722Z"
   },
   {
    "duration": 15,
    "start_time": "2024-02-11T20:19:49.065Z"
   },
   {
    "duration": 17,
    "start_time": "2024-02-11T20:20:31.234Z"
   },
   {
    "duration": 16,
    "start_time": "2024-02-11T20:21:01.699Z"
   },
   {
    "duration": 16,
    "start_time": "2024-02-11T20:21:07.659Z"
   },
   {
    "duration": 14,
    "start_time": "2024-02-11T20:21:14.715Z"
   },
   {
    "duration": 14,
    "start_time": "2024-02-11T20:21:20.548Z"
   },
   {
    "duration": 17,
    "start_time": "2024-02-11T20:21:24.555Z"
   },
   {
    "duration": 16,
    "start_time": "2024-02-11T20:21:33.340Z"
   },
   {
    "duration": 17,
    "start_time": "2024-02-11T20:21:47.579Z"
   },
   {
    "duration": 15,
    "start_time": "2024-02-11T20:21:58.733Z"
   },
   {
    "duration": 20,
    "start_time": "2024-02-11T20:22:10.020Z"
   },
   {
    "duration": 16,
    "start_time": "2024-02-11T20:22:13.965Z"
   },
   {
    "duration": 16,
    "start_time": "2024-02-11T20:22:24.485Z"
   },
   {
    "duration": 17,
    "start_time": "2024-02-11T20:22:37.396Z"
   },
   {
    "duration": 14,
    "start_time": "2024-02-11T20:22:54.582Z"
   },
   {
    "duration": 18,
    "start_time": "2024-02-11T20:23:03.078Z"
   },
   {
    "duration": 16,
    "start_time": "2024-02-11T20:23:12.950Z"
   },
   {
    "duration": 18,
    "start_time": "2024-02-11T20:23:24.846Z"
   },
   {
    "duration": 18,
    "start_time": "2024-02-11T20:23:30.837Z"
   },
   {
    "duration": 16,
    "start_time": "2024-02-11T20:23:49.079Z"
   },
   {
    "duration": 17,
    "start_time": "2024-02-11T20:23:52.830Z"
   },
   {
    "duration": 15,
    "start_time": "2024-02-11T20:24:00.719Z"
   },
   {
    "duration": 16,
    "start_time": "2024-02-11T20:24:12.392Z"
   },
   {
    "duration": 16,
    "start_time": "2024-02-11T20:24:27.399Z"
   },
   {
    "duration": 19,
    "start_time": "2024-02-11T20:24:46.216Z"
   },
   {
    "duration": 20,
    "start_time": "2024-02-11T20:25:07.602Z"
   },
   {
    "duration": 53,
    "start_time": "2024-02-11T20:25:25.107Z"
   },
   {
    "duration": 37,
    "start_time": "2024-02-11T20:25:50.467Z"
   },
   {
    "duration": 42,
    "start_time": "2024-02-11T20:26:04.827Z"
   },
   {
    "duration": 44,
    "start_time": "2024-02-11T20:26:08.771Z"
   },
   {
    "duration": 20,
    "start_time": "2024-02-11T20:26:13.194Z"
   },
   {
    "duration": 19,
    "start_time": "2024-02-11T20:26:30.211Z"
   },
   {
    "duration": 19,
    "start_time": "2024-02-11T20:26:49.131Z"
   },
   {
    "duration": 19,
    "start_time": "2024-02-11T20:27:00.891Z"
   },
   {
    "duration": 55,
    "start_time": "2024-02-11T20:27:11.276Z"
   },
   {
    "duration": 54,
    "start_time": "2024-02-11T20:27:15.060Z"
   },
   {
    "duration": 41,
    "start_time": "2024-02-11T20:27:20.700Z"
   },
   {
    "duration": 14,
    "start_time": "2024-02-11T20:27:25.094Z"
   },
   {
    "duration": 1192,
    "start_time": "2024-02-11T20:28:20.964Z"
   },
   {
    "duration": 33,
    "start_time": "2024-02-11T20:28:30.348Z"
   },
   {
    "duration": 30,
    "start_time": "2024-02-11T20:28:56.542Z"
   },
   {
    "duration": 20,
    "start_time": "2024-02-11T20:29:32.126Z"
   },
   {
    "duration": 32,
    "start_time": "2024-02-11T20:30:12.942Z"
   },
   {
    "duration": 20,
    "start_time": "2024-02-11T20:30:31.528Z"
   },
   {
    "duration": 19,
    "start_time": "2024-02-11T20:30:48.233Z"
   },
   {
    "duration": 39,
    "start_time": "2024-02-11T20:31:06.057Z"
   },
   {
    "duration": 21,
    "start_time": "2024-02-11T20:31:20.107Z"
   },
   {
    "duration": 28,
    "start_time": "2024-02-11T20:31:27.762Z"
   },
   {
    "duration": 20,
    "start_time": "2024-02-11T20:31:35.618Z"
   },
   {
    "duration": 20,
    "start_time": "2024-02-11T20:31:44.082Z"
   },
   {
    "duration": 54,
    "start_time": "2024-02-11T20:32:00.627Z"
   },
   {
    "duration": 35,
    "start_time": "2024-02-11T20:32:57.027Z"
   },
   {
    "duration": 35,
    "start_time": "2024-02-11T20:32:59.075Z"
   },
   {
    "duration": 20,
    "start_time": "2024-02-11T20:33:02.668Z"
   },
   {
    "duration": 14,
    "start_time": "2024-02-11T20:33:02.986Z"
   },
   {
    "duration": 34,
    "start_time": "2024-02-11T20:33:13.475Z"
   },
   {
    "duration": 19,
    "start_time": "2024-02-11T20:33:26.780Z"
   },
   {
    "duration": 19,
    "start_time": "2024-02-11T20:33:31.908Z"
   },
   {
    "duration": 25,
    "start_time": "2024-02-11T20:34:01.503Z"
   },
   {
    "duration": 17,
    "start_time": "2024-02-11T20:34:14.007Z"
   },
   {
    "duration": 15,
    "start_time": "2024-02-11T20:34:42.116Z"
   },
   {
    "duration": 15,
    "start_time": "2024-02-11T20:35:28.164Z"
   },
   {
    "duration": 19,
    "start_time": "2024-02-11T20:35:45.599Z"
   },
   {
    "duration": 11,
    "start_time": "2024-02-11T20:35:57.942Z"
   },
   {
    "duration": 17,
    "start_time": "2024-02-11T20:36:16.447Z"
   },
   {
    "duration": 25,
    "start_time": "2024-02-11T20:39:19.155Z"
   },
   {
    "duration": 28,
    "start_time": "2024-02-11T20:39:22.836Z"
   },
   {
    "duration": 18,
    "start_time": "2024-02-11T20:39:28.733Z"
   },
   {
    "duration": 17,
    "start_time": "2024-02-11T20:39:35.660Z"
   },
   {
    "duration": 12,
    "start_time": "2024-02-11T20:40:06.695Z"
   },
   {
    "duration": 23,
    "start_time": "2024-02-11T20:40:25.477Z"
   },
   {
    "duration": 17,
    "start_time": "2024-02-11T20:40:31.925Z"
   },
   {
    "duration": 13,
    "start_time": "2024-02-11T20:40:59.685Z"
   },
   {
    "duration": 23,
    "start_time": "2024-02-11T20:41:20.749Z"
   },
   {
    "duration": 18,
    "start_time": "2024-02-11T20:41:22.711Z"
   },
   {
    "duration": 24,
    "start_time": "2024-02-11T20:41:27.452Z"
   },
   {
    "duration": 8,
    "start_time": "2024-02-11T20:41:55.671Z"
   },
   {
    "duration": 21,
    "start_time": "2024-02-11T20:42:13.142Z"
   },
   {
    "duration": 12,
    "start_time": "2024-02-11T20:42:33.790Z"
   },
   {
    "duration": 19,
    "start_time": "2024-02-11T20:42:41.030Z"
   },
   {
    "duration": 20,
    "start_time": "2024-02-11T20:42:50.208Z"
   },
   {
    "duration": 27,
    "start_time": "2024-02-11T20:43:23.127Z"
   },
   {
    "duration": 63,
    "start_time": "2024-02-11T20:43:34.160Z"
   },
   {
    "duration": 13,
    "start_time": "2024-02-11T20:43:37.559Z"
   },
   {
    "duration": 30,
    "start_time": "2024-02-11T20:43:54.359Z"
   },
   {
    "duration": 13,
    "start_time": "2024-02-11T20:44:32.710Z"
   },
   {
    "duration": 30,
    "start_time": "2024-02-11T20:44:43.992Z"
   },
   {
    "duration": 35,
    "start_time": "2024-02-11T20:44:50.313Z"
   },
   {
    "duration": 24,
    "start_time": "2024-02-11T20:44:57.209Z"
   },
   {
    "duration": 12,
    "start_time": "2024-02-11T20:44:59.610Z"
   },
   {
    "duration": 38,
    "start_time": "2024-02-11T20:45:01.633Z"
   },
   {
    "duration": 15,
    "start_time": "2024-02-11T20:45:04.802Z"
   },
   {
    "duration": 15,
    "start_time": "2024-02-11T20:45:10.418Z"
   },
   {
    "duration": 14,
    "start_time": "2024-02-11T20:45:22.953Z"
   },
   {
    "duration": 15,
    "start_time": "2024-02-11T20:46:16.978Z"
   },
   {
    "duration": 15,
    "start_time": "2024-02-11T20:46:35.154Z"
   },
   {
    "duration": 14,
    "start_time": "2024-02-11T20:46:50.419Z"
   },
   {
    "duration": 14,
    "start_time": "2024-02-11T20:47:18.219Z"
   },
   {
    "duration": 24,
    "start_time": "2024-02-11T20:47:22.355Z"
   },
   {
    "duration": 27,
    "start_time": "2024-02-11T20:48:09.453Z"
   },
   {
    "duration": 24,
    "start_time": "2024-02-11T20:48:16.797Z"
   },
   {
    "duration": 95,
    "start_time": "2024-02-11T20:48:53.790Z"
   },
   {
    "duration": 130,
    "start_time": "2024-02-11T20:49:47.552Z"
   },
   {
    "duration": 94,
    "start_time": "2024-02-11T20:49:54.791Z"
   },
   {
    "duration": 85,
    "start_time": "2024-02-11T20:49:58.801Z"
   },
   {
    "duration": 107,
    "start_time": "2024-02-11T20:51:00.109Z"
   },
   {
    "duration": 87,
    "start_time": "2024-02-11T20:51:31.873Z"
   },
   {
    "duration": 89,
    "start_time": "2024-02-11T20:51:45.217Z"
   },
   {
    "duration": 83,
    "start_time": "2024-02-11T20:51:56.657Z"
   },
   {
    "duration": 84,
    "start_time": "2024-02-11T20:52:07.426Z"
   },
   {
    "duration": 103,
    "start_time": "2024-02-11T20:53:24.452Z"
   },
   {
    "duration": 108,
    "start_time": "2024-02-11T21:00:46.308Z"
   },
   {
    "duration": 96,
    "start_time": "2024-02-11T21:07:37.910Z"
   },
   {
    "duration": 103,
    "start_time": "2024-02-11T21:07:46.469Z"
   },
   {
    "duration": 92,
    "start_time": "2024-02-11T21:08:01.286Z"
   },
   {
    "duration": 95,
    "start_time": "2024-02-11T21:08:09.209Z"
   },
   {
    "duration": 90,
    "start_time": "2024-02-11T21:08:21.166Z"
   },
   {
    "duration": 91,
    "start_time": "2024-02-11T21:08:51.239Z"
   },
   {
    "duration": 88,
    "start_time": "2024-02-11T21:09:05.351Z"
   },
   {
    "duration": 20,
    "start_time": "2024-02-11T21:09:22.410Z"
   },
   {
    "duration": 15,
    "start_time": "2024-02-11T21:09:55.431Z"
   },
   {
    "duration": 17,
    "start_time": "2024-02-11T21:10:09.543Z"
   },
   {
    "duration": 15,
    "start_time": "2024-02-11T21:10:11.592Z"
   },
   {
    "duration": 19,
    "start_time": "2024-02-11T21:10:53.882Z"
   },
   {
    "duration": 20,
    "start_time": "2024-02-11T21:11:06.259Z"
   },
   {
    "duration": 33,
    "start_time": "2024-02-11T21:11:32.108Z"
   },
   {
    "duration": 35,
    "start_time": "2024-02-11T21:11:36.817Z"
   },
   {
    "duration": 35,
    "start_time": "2024-02-11T21:13:46.869Z"
   },
   {
    "duration": 19,
    "start_time": "2024-02-11T21:14:14.413Z"
   },
   {
    "duration": 34,
    "start_time": "2024-02-11T21:14:18.869Z"
   },
   {
    "duration": 35,
    "start_time": "2024-02-11T21:14:29.382Z"
   },
   {
    "duration": 35,
    "start_time": "2024-02-11T21:14:31.724Z"
   },
   {
    "duration": 34,
    "start_time": "2024-02-11T21:14:35.317Z"
   },
   {
    "duration": 34,
    "start_time": "2024-02-11T21:14:37.557Z"
   },
   {
    "duration": 34,
    "start_time": "2024-02-11T21:15:13.313Z"
   },
   {
    "duration": 35,
    "start_time": "2024-02-11T21:15:15.621Z"
   },
   {
    "duration": 34,
    "start_time": "2024-02-11T21:15:17.414Z"
   },
   {
    "duration": 35,
    "start_time": "2024-02-11T21:16:02.184Z"
   },
   {
    "duration": 35,
    "start_time": "2024-02-11T21:17:11.410Z"
   },
   {
    "duration": 20,
    "start_time": "2024-02-11T21:17:20.899Z"
   },
   {
    "duration": 33,
    "start_time": "2024-02-11T21:17:35.450Z"
   },
   {
    "duration": 32,
    "start_time": "2024-02-11T21:17:40.131Z"
   },
   {
    "duration": 34,
    "start_time": "2024-02-11T21:17:41.162Z"
   },
   {
    "duration": 32,
    "start_time": "2024-02-11T21:17:43.946Z"
   },
   {
    "duration": 34,
    "start_time": "2024-02-11T21:18:12.422Z"
   },
   {
    "duration": 103,
    "start_time": "2024-02-11T21:18:22.963Z"
   },
   {
    "duration": 34,
    "start_time": "2024-02-11T21:20:56.506Z"
   },
   {
    "duration": 33,
    "start_time": "2024-02-11T21:21:02.335Z"
   },
   {
    "duration": 33,
    "start_time": "2024-02-11T21:21:04.071Z"
   },
   {
    "duration": 13,
    "start_time": "2024-02-11T21:21:08.111Z"
   },
   {
    "duration": 17,
    "start_time": "2024-02-11T21:21:09.679Z"
   },
   {
    "duration": 13,
    "start_time": "2024-02-11T21:21:12.534Z"
   },
   {
    "duration": 4,
    "start_time": "2024-02-11T21:21:23.047Z"
   },
   {
    "duration": 59,
    "start_time": "2024-02-11T21:21:44.952Z"
   },
   {
    "duration": 50,
    "start_time": "2024-02-11T21:22:16.314Z"
   },
   {
    "duration": 45,
    "start_time": "2024-02-11T21:22:17.306Z"
   },
   {
    "duration": 53,
    "start_time": "2024-02-11T21:23:12.907Z"
   },
   {
    "duration": 11,
    "start_time": "2024-02-11T21:23:20.313Z"
   },
   {
    "duration": 19,
    "start_time": "2024-02-11T21:23:22.497Z"
   },
   {
    "duration": 8,
    "start_time": "2024-02-11T21:23:24.418Z"
   },
   {
    "duration": 17,
    "start_time": "2024-02-11T21:23:26.090Z"
   },
   {
    "duration": 13,
    "start_time": "2024-02-11T21:23:27.146Z"
   },
   {
    "duration": 30,
    "start_time": "2024-02-11T21:23:28.234Z"
   },
   {
    "duration": 14,
    "start_time": "2024-02-11T21:23:29.649Z"
   },
   {
    "duration": 26,
    "start_time": "2024-02-11T21:23:31.633Z"
   },
   {
    "duration": 12,
    "start_time": "2024-02-11T21:23:33.914Z"
   },
   {
    "duration": 41,
    "start_time": "2024-02-11T21:23:36.059Z"
   },
   {
    "duration": 13,
    "start_time": "2024-02-11T21:23:56.266Z"
   },
   {
    "duration": 15,
    "start_time": "2024-02-11T21:23:58.131Z"
   },
   {
    "duration": 13,
    "start_time": "2024-02-11T21:23:59.699Z"
   },
   {
    "duration": 8090,
    "start_time": "2024-02-12T05:07:24.976Z"
   },
   {
    "duration": 54,
    "start_time": "2024-02-12T05:07:33.068Z"
   },
   {
    "duration": 56,
    "start_time": "2024-02-12T05:07:33.125Z"
   },
   {
    "duration": 10,
    "start_time": "2024-02-12T05:07:33.183Z"
   },
   {
    "duration": 18,
    "start_time": "2024-02-12T05:07:33.195Z"
   },
   {
    "duration": 8,
    "start_time": "2024-02-12T05:07:33.214Z"
   },
   {
    "duration": 23,
    "start_time": "2024-02-12T05:07:33.223Z"
   },
   {
    "duration": 26,
    "start_time": "2024-02-12T05:07:33.248Z"
   },
   {
    "duration": 31,
    "start_time": "2024-02-12T05:07:33.276Z"
   },
   {
    "duration": 12,
    "start_time": "2024-02-12T05:07:33.309Z"
   },
   {
    "duration": 24,
    "start_time": "2024-02-12T05:07:33.323Z"
   },
   {
    "duration": 28,
    "start_time": "2024-02-12T05:07:33.348Z"
   },
   {
    "duration": 36,
    "start_time": "2024-02-12T05:07:33.377Z"
   },
   {
    "duration": 13,
    "start_time": "2024-02-12T05:07:33.415Z"
   },
   {
    "duration": 16,
    "start_time": "2024-02-12T05:07:33.429Z"
   },
   {
    "duration": 16,
    "start_time": "2024-02-12T05:07:33.446Z"
   }
  ],
  "kernelspec": {
   "display_name": "Python 3 (ipykernel)",
   "language": "python",
   "name": "python3"
  },
  "language_info": {
   "codemirror_mode": {
    "name": "ipython",
    "version": 3
   },
   "file_extension": ".py",
   "mimetype": "text/x-python",
   "name": "python",
   "nbconvert_exporter": "python",
   "pygments_lexer": "ipython3",
   "version": "3.11.5"
  },
  "toc": {
   "base_numbering": 1,
   "nav_menu": {},
   "number_sections": false,
   "sideBar": true,
   "skip_h1_title": true,
   "title_cell": "Table of Contents",
   "title_sidebar": "Contents",
   "toc_cell": false,
   "toc_position": {
    "height": "calc(100% - 180px)",
    "left": "10px",
    "top": "150px",
    "width": "362.646px"
   },
   "toc_section_display": true,
   "toc_window_display": true
  }
 },
 "nbformat": 4,
 "nbformat_minor": 2
}
